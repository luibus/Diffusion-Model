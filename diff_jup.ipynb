{
  "cells": [
    {
      "cell_type": "markdown",
      "metadata": {
        "id": "AO8axZ5-41ex"
      },
      "source": [
        "# **Modelo original MNIST**"
      ]
    },
    {
      "cell_type": "markdown",
      "metadata": {
        "id": "kDsj54RyfGIv"
      },
      "source": [
        "## **Llamada de librerias** y selección de cuda:0"
      ]
    },
    {
      "cell_type": "code",
      "execution_count": null,
      "metadata": {
        "colab": {
          "base_uri": "https://localhost:8080/"
        },
        "id": "gHH5GsDFgK9k",
        "outputId": "7bcad31b-b222-43a6-fbdc-17f2092a553a"
      },
      "outputs": [
        {
          "name": "stdout",
          "output_type": "stream",
          "text": [
            "cuda:0\n"
          ]
        }
      ],
      "source": [
        "# el objetivo es crear un proceso de difusion para datos 2D\n",
        "import numpy as np\n",
        "import torch\n",
        "import torch.nn as nn\n",
        "from matplotlib import pyplot as plt\n",
        "from torch.optim import Adam\n",
        "import gc\n",
        "from tqdm import tqdm\n",
        "\n",
        "# barrido de memoria\n",
        "gc.collect()\n",
        "torch.cuda.empty_cache()\n",
        "\n",
        "DEVICE =torch.device(\"cuda:0\" if torch.cuda.is_available() else \"cpu\")\n",
        "print(DEVICE)"
      ]
    },
    {
      "cell_type": "markdown",
      "metadata": {
        "id": "t_1DCzdKgQmj"
      },
      "source": [
        "## **Clase difusión:**\n",
        "\n",
        "\n",
        "1.   **linear_beta_schedule(self)**: define la difusión aplicando un aumento lineal del diffusion rate entre los pasos de tiempo.\n",
        "2.   **forward_diffusion(self)**: Lleva a cabo una difusión paso a paso con un único valor de ruido y da solo salida del último valor difusionado\n",
        "1.   **forward_diffusion_all(self)**: Lleva a cabo una difusión paso a paso con un único valor de ruido y guarda una lista de todos los pasos de difusión.\n",
        "2.   **forward_alpha(self)**: lleva a cabo la difusión en un solo paso hasta T y guarda diferentes difusiones desde t=0 hasta t=T así como los ruidos empleados.\n",
        "1.   **forward_alpha_last_update(self,Time)**: mismo proceso que forward_alpha(self) solo que acepta entrada de t pensado para evaluar el modelo.\n",
        "2.   **reverse_sampling(self, W,ruido,model_dict)**: lleva a cabo el proceso reverse.\n",
        "  *   Al descomentar #x=ruido se puede hacer que el reverse empieze desde la distribución de entrada en la variable \"ruido\"\n",
        "  *   W no es empleada se puede poner como None\n",
        "  *   model_dict es un diccionario que almacena autoencoders para cada T con keys empezando de 0 a T-1\n",
        "1.   **reverse_sampling_last_update(self, W,ruido,model_dict,Time)**: mismo proceso que la clase reverse_sampling(self, W,ruido,model_dict) pero con la posibilidad de definir el paso t del que parte el proceso reverse.\n",
        "\n",
        "\n",
        "\n",
        "\n",
        "\n",
        "\n",
        "\n",
        "\n",
        "\n",
        "\n",
        "\n",
        "\n",
        "\n",
        "\n"
      ]
    },
    {
      "cell_type": "code",
      "execution_count": null,
      "metadata": {
        "id": "FPOcRW4TlQxr"
      },
      "outputs": [],
      "source": [
        "\n",
        "class Difusion:\n",
        "    def __init__(self,data,W,paso_temp):\n",
        "        self.DEVICE_dos =torch.device(\"cuda:0\" if data.is_cuda==True else \"cpu\")#segun el device de la entrada me pone mi clase en cpu o en cuda tarda lo mismo o un segundo menos\n",
        "        self.n=data.size(dim=0)                                                 #numero de puntos o variables\n",
        "        self.m=data.size(dim=1)                                                 #numero de samples\n",
        "        self.T = paso_temp                                                      #pasos de tiempo\n",
        "        self.mu=0                                                               #media de el ruido que se añade en los procesos\n",
        "        self.var=1                                                              #varianza del ruido\n",
        "        self.data=data                                                          #dos definiciones de data para varios usos (unused)\n",
        "        self.data2=data\n",
        "        self.start=(1e-4)                                                       #inicio y final del difusion rate, se hace linspace para retrasar los efectos del proceso\n",
        "        self.end=0.02 #0.02\n",
        "        self.betas = self.linear_beta_schedule()                                #llamada interior que genera el linspace\n",
        "        self.alphas = 1. - self.betas                                           #generación de las alphas\n",
        "        self.alphas_cumprod = torch.from_numpy(np.cumprod(self.alphas, axis=0)).to(self.DEVICE_dos) #generación de las alphas acumulativas\n",
        "        self.alpha_hat=self.alphas_cumprod                                      #cambio de nombre\n",
        "\n",
        "\n",
        "    def salida_factor(self,i):\n",
        "        if i>0:\n",
        "          sal=self.alphas_cumprod[i-1]\n",
        "        else:\n",
        "          sal=None\n",
        "        return self.alphas[i],self.alphas_cumprod[i],self.betas[i],sal\n",
        "\n",
        "\n",
        "    def linear_beta_schedule(self):\n",
        "        return np.linspace(self.start, self.end, self.T)\n",
        "\n",
        "\n",
        "    def forward_alpha(self):                                                    # Paso forward con alphas acumulativas\n",
        "        ruido=torch.normal(self.mu * torch.ones(self.m,self.n),self.var).to(self.DEVICE_dos)\n",
        "        data2 =torch.sqrt(self.alphas_cumprod[self.T-1])*self.data2.T + (torch.sqrt(1-self.alphas_cumprod[self.T-1])*ruido)\n",
        "        return data2,ruido\n",
        "\n",
        "\n",
        "    def forward_alpha_last_update(self,Time):                                   #proceso forward que se empleará para entrenar tiempo a tiempo cada máquina al completo\n",
        "        ruido=torch.normal(self.mu * torch.ones(self.m,self.n),self.var).to(self.DEVICE_dos)\n",
        "        data2 =torch.sqrt(self.alphas_cumprod[Time-1])*self.data2.T + (torch.sqrt(1-self.alphas_cumprod[Time-1])*ruido)\n",
        "        return data2,ruido\n",
        "\n",
        "\n",
        "    def reverse_sampling(self, W,ruido,model_dict):\n",
        "            with torch.no_grad():\n",
        "                x=torch.normal(self.mu * torch.ones(self.n),self.var).to(DEVICE) #sampling de una distribución normal\n",
        "                #x[(x.size(dim=0)-1)]=T #ponemos el último valor como el paso de tiempo correspondiente\n",
        "                #x=torch.transpose(x,0,1)\n",
        "                #print(x.size())\n",
        "                #x=(1/(1+torch.exp(-(x))))\n",
        "                #x=0.1*x#lo que cambiamos para ir o no a los datos\n",
        "                #x=ruido #al comentar esta linea lo hacemos tomar un ruido base aleatorio si no usa la muestra característica\n",
        "                #predicted_noise=W\n",
        "                predicted_noise=torch.ones(self.n).to(DEVICE)\n",
        "                #for i in range(x.size(dim=0)):\n",
        "                #    predicted_noise[i]=torch.tensor(1/(1+torch.exp(-(torch.dot(W[i,:],x[:])))))-0.5                 #OJO AL CAMBIO  la matriz de pesos es ahora pixeles en las distintas filas y pesos de entrada en las distintas columnas\n",
        "                #                #print(predicted_noise)\n",
        "                                #print(i)\n",
        "                #print(W[1,2,:].size())\n",
        "                #print(x[:].size())\n",
        "\n",
        "                for i in reversed(range(self.T)):\n",
        "                        alpha = self.alphas[i] #los alpha y alpha coump de el paso específico de la trayectoria reverse\n",
        "                        alpha_hat = self.alphas_cumprod[i]\n",
        "                        beta = self.betas[i]\n",
        "\n",
        "\n",
        "                        model=model_dict[str(i)]\n",
        "                        model.eval()\n",
        "                        predicted_noise=model(x)\n",
        "\n",
        "\n",
        "\n",
        "                        #for j in range(x.size(dim=0)-1):\n",
        "                        #    predicted_noise[j]=2*(torch.tensor(1/(1+torch.exp(-(torch.dot(W[i,j,:],x[:])))))-0.5)\n",
        "                            #print(predicted_noise)\n",
        "                            #print(i)\n",
        "                        if i > 1:\n",
        "                            noise= torch.normal(self.mu * torch.ones(self.n),self.var).to(DEVICE)\n",
        "                            #noise=noise*0.1\n",
        "                            #noise = torch.zeros_like(x)\n",
        "                            #noise = torch.randn_like(x) #aquí generamos el ruido antes de llamar a las clases asi que no haria falta generarlo despues, solo usar noise, o bien usar ruido_util solo que todavia no lo habremos llamado\n",
        "                        else:\n",
        "                            noise = torch.zeros(self.n).to(DEVICE)\n",
        "                        x = 1 / np.sqrt(alpha) * (x - ((1 - alpha) / (torch.sqrt(1 - alpha_hat))) * predicted_noise) + np.sqrt(beta) * noise\n",
        "                        #x[(x.size(dim=0)-1)]=i+1 #aqui igualamos el termino del tiempo al paso por el que vamos\n",
        "                    #no deberia ser alpha_hat?\n",
        "\n",
        "            return x\n",
        "    def reverse_sampling_time_to_time(self, W,ruido,model_dict,Time):\n",
        "            with torch.no_grad():\n",
        "                x=torch.normal(self.mu * torch.ones(self.n),self.var).to(DEVICE) #sampling de una distribución normal\n",
        "                #x[(x.size(dim=0)-1)]=T #ponemos el último valor como el paso de tiempo correspondiente\n",
        "                #x=torch.transpose(x,0,1)\n",
        "                #print(x.size())\n",
        "                #x=(1/(1+torch.exp(-(x))))\n",
        "                #x=0.1*x#lo que cambiamos para ir o no a los datos\n",
        "                x=ruido #al comentar esta linea lo hacemos tomar un ruido base aleatorio si no usa la muestra característica\n",
        "                #predicted_noise=W\n",
        "                predicted_noise=torch.ones(self.n).to(DEVICE)\n",
        "                #for i in range(x.size(dim=0)):\n",
        "                #    predicted_noise[i]=torch.tensor(1/(1+torch.exp(-(torch.dot(W[i,:],x[:])))))-0.5                 #OJO AL CAMBIO  la matriz de pesos es ahora pixeles en las distintas filas y pesos de entrada en las distintas columnas\n",
        "                #                #print(predicted_noise)\n",
        "                                #print(i)\n",
        "                #print(W[1,2,:].size())\n",
        "                #print(x[:].size())\n",
        "\n",
        "                for i in reversed(range(Time)):\n",
        "                        alpha = self.alphas[i] #los alpha y alpha coump de el paso específico de la trayectoria reverse\n",
        "                        alpha_hat = self.alphas_cumprod[i]\n",
        "                        beta = self.betas[i]\n",
        "\n",
        "\n",
        "                        model=model_dict[str(i)]\n",
        "                        model.eval()\n",
        "                        predicted_noise=model(x)\n",
        "\n",
        "\n",
        "\n",
        "                        #for j in range(x.size(dim=0)-1):\n",
        "                        #    predicted_noise[j]=2*(torch.tensor(1/(1+torch.exp(-(torch.dot(W[i,j,:],x[:])))))-0.5)\n",
        "                            #print(predicted_noise)\n",
        "                            #print(i)\n",
        "                        if i >= 1:\n",
        "                            noise= torch.normal(self.mu * torch.ones(self.n),self.var).to(DEVICE)\n",
        "                            #noise=noise*0.1\n",
        "                            #noise = torch.zeros_like(x)\n",
        "                            #noise = torch.randn_like(x) #aquí generamos el ruido antes de llamar a las clases asi que no haria falta generarlo despues, solo usar noise, o bien usar ruido_util solo que todavia no lo habremos llamado\n",
        "                        else:\n",
        "                            noise = torch.zeros(self.n).to(DEVICE)\n",
        "                        if i>0:\n",
        "                            gamma=((1-self.alphas_cumprod[i-1])/(1-alpha_hat))*beta #mejor gamma para asignar nosotros el valor x_0\n",
        "                        else:\n",
        "                            gamma=beta\n",
        "                        x = 1 / np.sqrt(alpha) * (x - ((1 - alpha) / (torch.sqrt(1 - alpha_hat))) * predicted_noise) + np.sqrt(gamma) * noise\n",
        "                        #x[(x.size(dim=0)-1)]=i+1 #aqui igualamos el termino del tiempo al paso por el que vamos\n",
        "                    #no deberia ser alpha_hat?\n",
        "\n",
        "            return x\n",
        "    def reverse_sampling_espiral(self, W,ruido,model_dict):\n",
        "            with torch.no_grad():\n",
        "                x=torch.normal(self.mu * torch.ones(2),self.var).to(DEVICE) #sampling de una distribución normal\n",
        "                #x[(x.size(dim=0)-1)]=T #ponemos el último valor como el paso de tiempo correspondiente\n",
        "                #x=torch.transpose(x,0,1)\n",
        "                #print(x.size())\n",
        "                #x=(1/(1+torch.exp(-(x))))\n",
        "                #x=0.1*x#lo que cambiamos para ir o no a los datos\n",
        "                #x=ruido #al comentar esta linea lo hacemos tomar un ruido base aleatorio si no usa la muestra característica\n",
        "                #predicted_noise=W\n",
        "                predicted_noise=torch.ones(2).to(DEVICE)\n",
        "                #for i in range(x.size(dim=0)):\n",
        "                #    predicted_noise[i]=torch.tensor(1/(1+torch.exp(-(torch.dot(W[i,:],x[:])))))-0.5                 #OJO AL CAMBIO  la matriz de pesos es ahora pixeles en las distintas filas y pesos de entrada en las distintas columnas\n",
        "                #                #print(predicted_noise)\n",
        "                                #print(i)\n",
        "                #print(W[1,2,:].size())\n",
        "                #print(x[:].size())\n",
        "\n",
        "                for i in reversed(range(self.T)):\n",
        "                        alpha = self.alphas[i] #los alpha y alpha coump de el paso específico de la trayectoria reverse\n",
        "                        alpha_hat = self.alphas_cumprod[i]\n",
        "                        beta = self.betas[i]\n",
        "\n",
        "\n",
        "                        model=model_dict[str(i)]\n",
        "                        model.eval()\n",
        "                        predicted_noise=model(x)\n",
        "\n",
        "\n",
        "\n",
        "                        #for j in range(x.size(dim=0)-1):\n",
        "                        #    predicted_noise[j]=2*(torch.tensor(1/(1+torch.exp(-(torch.dot(W[i,j,:],x[:])))))-0.5)\n",
        "                            #print(predicted_noise)\n",
        "                            #print(i)\n",
        "                        if i > 1:\n",
        "                            noise= torch.normal(self.mu * torch.ones(2),self.var).to(DEVICE)\n",
        "                            #noise=noise*0.1\n",
        "                            #noise = torch.zeros_like(x)\n",
        "                            #noise = torch.randn_like(x) #aquí generamos el ruido antes de llamar a las clases asi que no haria falta generarlo despues, solo usar noise, o bien usar ruido_util solo que todavia no lo habremos llamado\n",
        "                        else:\n",
        "                            noise = torch.zeros(2).to(DEVICE)\n",
        "                        x = 1 / np.sqrt(alpha) * (x - ((1 - alpha) / (torch.sqrt(1 - alpha_hat))) * predicted_noise) + np.sqrt(beta) * noise\n",
        "                        #x[(x.size(dim=0)-1)]=i+1 #aqui igualamos el termino del tiempo al paso por el que vamos\n",
        "                    #no deberia ser alpha_hat?\n",
        "\n",
        "            return x\n",
        "    def reverse_sampling_param(self, W,ruido,model):\n",
        "            with torch.no_grad():\n",
        "                x=torch.ones(self.n + 1)\n",
        "                xaux=torch.normal(self.mu * torch.ones(self.n),self.var).to(DEVICE)#sampling de una distribución normal\n",
        "                x[:self.n]=xaux\n",
        "                predicted_noise=torch.ones(self.n).to(DEVICE)\n",
        "\n",
        "                for i in reversed(range(self.T)):                               #conteo inverso desde T hasta 0\n",
        "                      x[self.n]=i/self.T\n",
        "                      alpha = self.alphas[i]                                    #los alpha beta y alpha coump de el paso específico de la trayectoria reverse\n",
        "                      alpha_hat = self.alphas_cumprod[i]\n",
        "                      beta = self.betas[i]\n",
        "                      #model=model_dict[str(i)]                                  #seleccionamos el modelo del paso de tiempo, es un diccionario, entra como str\n",
        "                      model.eval()                                              #se pone en modo evaluación\n",
        "                      predicted_noise=model(x)                                  #en el primer paso partimos del ruido y generamos una predicción de x con el modelo, luego x se redefinirá\n",
        "                      if i >= 1:                                                #en todos los pasos desde T hasta 1 se genera una variable aleatoria\n",
        "                          noise= torch.normal(self.mu * torch.ones(self.n),self.var).to(DEVICE)\n",
        "                      else:                                                     #en 0 no se añade más ruido\n",
        "                          noise = torch.zeros(self.n).to(DEVICE)\n",
        "                      gamma=beta                                                #gamma mejor empleado para sampling desde distribución normal\n",
        "                      #if i>0:\n",
        "                      #  gamma=((1-self.alphas_cumprod[i-1])/(1-alpha_hat))*beta#mejor gamma para asignar nosotros el valor x_0\n",
        "                      xaux =((1/np.sqrt(alpha)) * (x[:self.n] -(((1 - alpha) / (torch.sqrt(1 - alpha_hat))) * predicted_noise))) + (np.sqrt(gamma) * noise)\n",
        "                      x[:self.n]=xaux\n",
        "\n",
        "\n",
        "            return x\n",
        "    def reverse_sampling_split(self, W,ruido,model_dict,split):\n",
        "            with torch.no_grad():\n",
        "                x=torch.normal(self.mu * torch.ones(self.n),self.var).to(DEVICE) #sampling de una distribución normal\n",
        "                #x[(x.size(dim=0)-1)]=T #ponemos el último valor como el paso de tiempo correspondiente\n",
        "                #x=torch.transpose(x,0,1)\n",
        "                #print(x.size())\n",
        "                #x=(1/(1+torch.exp(-(x))))\n",
        "                #x=0.1*x#lo que cambiamos para ir o no a los datos\n",
        "                #x=ruido #al comentar esta linea lo hacemos tomar un ruido base aleatorio si no usa la muestra característica\n",
        "                #predicted_noise=W\n",
        "                predicted_noise=torch.ones(self.n).to(DEVICE)\n",
        "                #for i in range(x.size(dim=0)):\n",
        "                #    predicted_noise[i]=torch.tensor(1/(1+torch.exp(-(torch.dot(W[i,:],x[:])))))-0.5                 #OJO AL CAMBIO  la matriz de pesos es ahora pixeles en las distintas filas y pesos de entrada en las distintas columnas\n",
        "                #                #print(predicted_noise)\n",
        "                                #print(i)\n",
        "                #print(W[1,2,:].size())\n",
        "                #print(x[:].size())\n",
        "\n",
        "                for j in reversed(range(int(self.T/split))):\n",
        "                        i=j*split\n",
        "                        alpha = self.alphas[i] #los alpha y alpha coump de el paso específico de la trayectoria reverse\n",
        "                        alpha_hat = self.alphas_cumprod[i]\n",
        "                        beta = self.betas[i]\n",
        "\n",
        "\n",
        "                        model=model_dict[str(i)]\n",
        "                        model.eval()\n",
        "                        predicted_noise=model(x)\n",
        "\n",
        "\n",
        "\n",
        "                        #for j in range(x.size(dim=0)-1):\n",
        "                        #    predicted_noise[j]=2*(torch.tensor(1/(1+torch.exp(-(torch.dot(W[i,j,:],x[:])))))-0.5)\n",
        "                            #print(predicted_noise)\n",
        "                            #print(i)\n",
        "                        if i > 1:\n",
        "                            noise= torch.normal(self.mu * torch.ones(self.n),self.var).to(DEVICE)\n",
        "                            #noise=noise*0.1\n",
        "                            #noise = torch.zeros_like(x)\n",
        "                            #noise = torch.randn_like(x) #aquí generamos el ruido antes de llamar a las clases asi que no haria falta generarlo despues, solo usar noise, o bien usar ruido_util solo que todavia no lo habremos llamado\n",
        "                        else:\n",
        "                            noise = torch.zeros(self.n).to(DEVICE)\n",
        "                        x = 1 / np.sqrt(alpha) * (x - ((1 - alpha) / (torch.sqrt(1 - alpha_hat))) * predicted_noise) + np.sqrt(beta) * noise\n",
        "                        #x[(x.size(dim=0)-1)]=i+1 #aqui igualamos el termino del tiempo al paso por el que vamos\n",
        "                    #no deberia ser alpha_hat?\n",
        "\n",
        "            return x"
      ]
    },
    {
      "cell_type": "markdown",
      "metadata": {
        "id": "-n_Z_F4alV3p"
      },
      "source": [
        "## **Data handling**\n",
        "Los datos se cargan de los ficheros './images_train.csv' y './labels_train.csv' luego son clasificados para extraer los correspondientes a los labels=1"
      ]
    },
    {
      "cell_type": "code",
      "execution_count": null,
      "metadata": {
        "colab": {
          "base_uri": "https://localhost:8080/"
        },
        "id": "fruPO9wSm-bY",
        "outputId": "ee042cfb-922a-49fe-f4d9-ff2c1bd3b968"
      },
      "outputs": [
        {
          "name": "stdout",
          "output_type": "stream",
          "text": [
            "torch.Size([60000, 784])\n"
          ]
        }
      ],
      "source": [
        "def read_data(images_file, labels_file):\n",
        "    x = np.loadtxt(images_file, delimiter=',')\n",
        "    y = np.loadtxt(labels_file, delimiter=',')\n",
        "    return x, y\n",
        "\n",
        "train_data, train_labels = read_data('./images_train.csv', './labels_train.csv')\n",
        "test_data, test_labels = read_data('./images_test.csv', './labels_test.csv')\n",
        "\n",
        "data_bien=torch.from_numpy(train_data).float()                                 #definimos nuestras variables de data originales ojo que son [sample,data]\n",
        "test_bien=torch.from_numpy(test_data).float()\n",
        "\n",
        "data_bien=((torch.transpose(data_bien,0,1)/255)*2-1)                           #pongo e dataset linealmente entre -0.5 y 0.5\n",
        "test_bien=((torch.transpose(test_bien,0,1)/255)*2-1)\n",
        "\n",
        "data_bien = data_bien[:,np.where((train_labels==1)|(train_labels==3))[0]]      #selecciono solo los samples de 1\n",
        "test_bien = test_bien[:,np.where((test_labels==1)|(test_labels==3))[0]]\n",
        "\n",
        "data_mean = torch.mean(data_bien)                                              #almaceno la media como variable\n",
        "data_bien = (data_bien - data_mean)                                            #resto la media a mi dataset para que la difusión se realice desde un punto más cercano al centro de masas de los valores\n",
        "test_bien = (test_bien - data_mean)\n",
        "\n"
      ]
    },
    {
      "cell_type": "markdown",
      "metadata": {
        "id": "O9lI1Zmpm_d0"
      },
      "source": [
        "Los datos se reducen ya que toman valores entre 0 y 255 se les resta 0.5 por procesos anteriores y se centran alrededor de la media para permitir que la difusión sea homogenea."
      ]
    },
    {
      "cell_type": "code",
      "execution_count": null,
      "metadata": {
        "colab": {
          "base_uri": "https://localhost:8080/"
        },
        "id": "_a8eycltn5wg",
        "outputId": "f2573086-df4b-483a-cc6f-c42bc9c04cf8"
      },
      "outputs": [
        {
          "name": "stdout",
          "output_type": "stream",
          "text": [
            "torch.Size([784, 6742])\n",
            "torch.Size([784, 6742])\n",
            "torch.Size([784, 5000])\n"
          ]
        }
      ],
      "source": [
        "\n",
        "print(np.where(train_labels==1)[0])\n",
        "print(data_bien.size())\n",
        "print(test_bien.size())\n",
        "\n",
        "data_bien=data_bien[:,:12500]                                                   #acorto el tamaño del dataset total aprox 6100 train y 1200 test\n",
        "test_bien=test_bien[:,:2100]\n",
        "print(data_bien.size())\n"
      ]
    },
    {
      "cell_type": "markdown",
      "metadata": {
        "id": "5qF-GxgDn8ae"
      },
      "source": [
        "Ahora definimos T para todo el modelo:"
      ]
    },
    {
      "cell_type": "code",
      "execution_count": null,
      "metadata": {
        "id": "2ebyuGRvoBRw"
      },
      "outputs": [],
      "source": [
        "T=1000"
      ]
    },
    {
      "cell_type": "markdown",
      "metadata": {
        "id": "Iq8oVHxRob84"
      },
      "source": [
        "## **Difusión**:\n",
        "Haremos la difusión de los datos de MNIST con solo valores de 1 y guardaremos en las matrices X e Y todos los pasos de T de todas las samples en las dimensiones X(T=1000,samples=5000,data=784).\n",
        "  * En forward_alpha el tiempo tene que entrar entre 1 y T\n",
        "Aquí se podría usar mejor forward_alpha_last_update para no llamar a la clase dentro del for"
      ]
    },
    {
      "cell_type": "code",
      "execution_count": null,
      "metadata": {
        "colab": {
          "base_uri": "https://localhost:8080/"
        },
        "id": "ogrsw5aqqirG",
        "outputId": "8dc7c6d2-2aff-4135-b6b3-e7bfd6718eea"
      },
      "outputs": [
        {
          "name": "stdout",
          "output_type": "stream",
          "text": [
            "vamos por:  1\n",
            "vamos por:  2\n",
            "vamos por:  3\n",
            "vamos por:  4\n",
            "vamos por:  5\n",
            "vamos por:  6\n",
            "vamos por:  7\n",
            "vamos por:  8\n",
            "vamos por:  9\n",
            "vamos por:  10\n",
            "torch.Size([10, 5000, 784])\n",
            "torch.Size([10, 5000, 784])\n",
            "torch.Size([10, 5000, 784])\n",
            "torch.Size([10, 5000, 784])\n"
          ]
        }
      ],
      "source": [
        "ruido=torch.ones(T,data_bien.size(dim=1),data_bien.size(dim=0))\n",
        "X=torch.ones(T,data_bien.size(dim=1),data_bien.size(dim=0))\n",
        "\n",
        "user1=Difusion(torch.clone(data_bien),None,T)\n",
        "for j in range(1,T+1): #j entra como el tiempo pero habra que restarle uno para usarlo como indice\n",
        "    print('vamos por: ',j)\n",
        "    # for i in range(data_bien.size(dim=1)):\n",
        "        #print('vamos por: ',i)\n",
        "\n",
        "        #forward_result ,ruido_util_itera= user1.forward_diffusion()\n",
        "    forward_alpha_result, ruido_util = user1.forward_alpha_last_update(j)\n",
        "        #print(forward_result.size())\n",
        "    X[j-1,:,:data_bien.size(dim=0)]=forward_alpha_result[:]\n",
        "    #X[j-1,:,data_bien.size(dim=0)]=j\n",
        "    ruido[j-1,:,:data_bien.size(dim=0)]=ruido_util[:]\n",
        "    #ruido[j-1,:,data_bien.size(dim=0)]=j\n",
        "\n",
        "#ahora X y ruido me almacenan los distintos pasos de tiempo en los distintos j con los distintos ruidos a cada paso de tiempo PERO para luego el reverse al ser forward alpha no cuadra muy bien¿?\n",
        "print(ruido.size())\n",
        "print(X.size())\n",
        "ruido=torch.reshape(ruido,[T,data_bien.size(dim=1),data_bien.size(dim=0)])\n",
        "X=torch.reshape(X,[T,data_bien.size(dim=1),data_bien.size(dim=0)])\n",
        "print(ruido.size())\n",
        "print(X.size())\n",
        "#print(X)\n",
        "Y=ruido\n",
        "#permut=torch.randperm(X.size(0))\n",
        "#print(permut.size())\n",
        "#x_preshuffle=X\n",
        "#X=X[permut,:,:] #al estar comentado no estamos mezclando los samples\n",
        "#Y=Y[permut,:,:]\n",
        "\n",
        "\n",
        "    #"
      ]
    },
    {
      "cell_type": "markdown",
      "metadata": {
        "id": "CyXWtb63qo_b"
      },
      "source": [
        "## **Visualización**:"
      ]
    },
    {
      "cell_type": "markdown",
      "metadata": {
        "id": "DH8mV9XQqy4V"
      },
      "source": [
        "Para el sample 1 distribución original:"
      ]
    },
    {
      "cell_type": "code",
      "execution_count": null,
      "metadata": {
        "colab": {
          "base_uri": "https://localhost:8080/",
          "height": 447
        },
        "id": "_F14K30qq5qU",
        "outputId": "c8d6e481-872f-4351-fb5d-f347825cbbf9"
      },
      "outputs": [
        {
          "data": {
            "text/plain": [
              "<matplotlib.image.AxesImage at 0x7c40cb3e01f0>"
            ]
          },
          "execution_count": 13,
          "metadata": {},
          "output_type": "execute_result"
        },
        {
          "data": {
            "image/png": "[encoded data removed]",
            "text/plain": [
              "<Figure size 640x480 with 1 Axes>"
            ]
          },
          "metadata": {},
          "output_type": "display_data"
        }
      ],
      "source": [
        "plt.imshow(np.transpose(data_bien[:784,1].reshape(28,28)))"
      ]
    },
    {
      "cell_type": "markdown",
      "metadata": {
        "id": "S1lwiEBZq7cM"
      },
      "source": [
        "Distribución en el último paso de difusión:"
      ]
    },
    {
      "cell_type": "code",
      "execution_count": null,
      "metadata": {
        "colab": {
          "base_uri": "https://localhost:8080/",
          "height": 447
        },
        "id": "ARY7s1aiq6Z5",
        "outputId": "df0afdf2-420e-4259-8279-5a5fcfc2bdbd"
      },
      "outputs": [
        {
          "data": {
            "text/plain": [
              "<matplotlib.image.AxesImage at 0x7c40c0936800>"
            ]
          },
          "execution_count": 14,
          "metadata": {},
          "output_type": "execute_result"
        },
        {
          "data": {
            "image/png": "[encoded data removed]",
            "text/plain": [
              "<Figure size 640x480 with 1 Axes>"
            ]
          },
          "metadata": {},
          "output_type": "display_data"
        }
      ],
      "source": [
        "plt.imshow(np.transpose(X[j-1,1,:784].reshape(28,28)))"
      ]
    },
    {
      "cell_type": "markdown",
      "metadata": {
        "id": "6_nVF6qGq6Gx"
      },
      "source": [
        "Ruido empleado:"
      ]
    },
    {
      "cell_type": "code",
      "execution_count": null,
      "metadata": {
        "colab": {
          "base_uri": "https://localhost:8080/",
          "height": 447
        },
        "id": "EUUluHEZq73C",
        "outputId": "68c82c50-d67b-4d43-e57d-1b343a3bbff7"
      },
      "outputs": [
        {
          "data": {
            "text/plain": [
              "<matplotlib.image.AxesImage at 0x7c40c09a1e70>"
            ]
          },
          "execution_count": 15,
          "metadata": {},
          "output_type": "execute_result"
        },
        {
          "data": {
            "image/png": "[encoded data removed]",
            "text/plain": [
              "<Figure size 640x480 with 1 Axes>"
            ]
          },
          "metadata": {},
          "output_type": "display_data"
        }
      ],
      "source": [
        "plt.imshow(np.transpose(ruido[j-1,1,:784].reshape(28,28)))"
      ]
    },
    {
      "cell_type": "markdown",
      "metadata": {
        "id": "xeGhIX7jRb7A"
      },
      "source": [
        "Comprobamos la distribución"
      ]
    },
    {
      "cell_type": "code",
      "execution_count": null,
      "metadata": {
        "id": "dSw-fpocRaJ9"
      },
      "outputs": [],
      "source": [
        "plt.figure(dpi=100)\n",
        "plt.hist(X[j-1,1,:784].cpu().numpy(),bins=40,density=True)\n",
        "xr = np.linspace(-0.4,0.4,100)\n",
        "sig=0.1\n",
        "plt.plot(xr,1/(2*np.pi*sig**2)**0.5*np.exp(-xr*xr*0.5/sig**2))\n",
        "plt.yscale('log')"
      ]
    },
    {
      "cell_type": "markdown",
      "metadata": {
        "id": "JXxPOWxtrRxW"
      },
      "source": [
        "Podemos comprobar los valores máximos de nuestras matrices:"
      ]
    },
    {
      "cell_type": "code",
      "execution_count": null,
      "metadata": {
        "colab": {
          "base_uri": "https://localhost:8080/"
        },
        "id": "THLUduPqrbl4",
        "outputId": "6555a765-9ccf-477d-ef11-48354251cf84"
      },
      "outputs": [
        {
          "name": "stdout",
          "output_type": "stream",
          "text": [
            "tensor(0.5566)\n",
            "tensor(7.7642)\n",
            "tensor(-0.5766)\n",
            "tensor(-0.6180)\n"
          ]
        }
      ],
      "source": [
        "#print(torch.max(ruido[:784,1,T-1]-(X[:784,1,T-1])))#son muy parecidos mucha disfusión? Sí a menor paso de t mejor por eso hay que entrenar t como parámetro\n",
        "print(torch.max(ruido))\n",
        "print(torch.max(X))\n",
        "#print(torch.min(ruido[:784,1,T-1]-(X[:784,1,T-1])))#son muy parecidos mucha disfusión? Sí a menor paso de t mejor por eso hay que entrenar t como parámetro\n",
        "print(torch.min(ruido))\n",
        "print(torch.min(X))"
      ]
    },
    {
      "cell_type": "markdown",
      "metadata": {
        "id": "qkho5CKHrdrj"
      },
      "source": [
        "## **Modelo y entrenamiento**:\n",
        "![image.png](data:image/png;base64,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)\n",
        "\n"
      ]
    },
    {
      "cell_type": "markdown",
      "metadata": {
        "id": "O3buQMvPsnPn"
      },
      "source": [
        "ϵθ se trata del modelo que vamos a entrenar el cual depende de dos entradas:\n",
        "  * Los datos en un estado de difusión t\n",
        "  * t\n",
        "\n",
        "La dependencia en los datos difusionados la vamos a entrenar a través de un autoencoder con una cantidad de hidden variables que podremos cambiar para estudiar cual es la más conveniente, tomaremos la loss como la MSE entre ϵ(el ruido original empleado para difusionar los datos t es decir, Y) y la salida del modelo aplcado a los datos difusos, X. La dependencia en t se aplicará construyendo un diccionario con un autoencoder para cada paso de tiempo."
      ]
    },
    {
      "cell_type": "markdown",
      "source": [
        "Parámetros de entrenamiento"
      ],
      "metadata": {
        "id": "j3YuTNsw2tcp"
      }
    },
    {
      "cell_type": "code",
      "execution_count": null,
      "metadata": {
        "id": "ECJ3wq03vWZq"
      },
      "outputs": [],
      "source": [
        "\n",
        "x_util=torch.ones(data_bien.size(dim=1),data_bien.size(dim=0))                  #predefino las variables d1el entrenamiento\n",
        "x_test=torch.ones(test_bien.size(dim=1),test_bien.size(dim=0))\n",
        "y_util=torch.ones(data_bien.size(dim=1),data_bien.size(dim=0))\n",
        "y_test=torch.ones(test_bien.size(dim=1),test_bien.size(dim=0))\n",
        "\n",
        "x_util=x_util.to(DEVICE)                                                        #las defino en cuda\n",
        "x_test=x_test.to(DEVICE)\n",
        "y_util=y_util.to(DEVICE)\n",
        "y_test=y_test.to(DEVICE)\n",
        "\n",
        "train_data=1                                                                    #libero memoria\n",
        "train_labels=1\n",
        "test_data=1\n",
        "test_labels=1\n",
        "del test_data\n",
        "del test_labels\n",
        "del train_data\n",
        "del train_labels\n",
        "gc.collect()\n",
        "\n",
        "\"\"\"Definiciones del entrenamiento\"\"\"\n",
        "\n",
        "errores = 10                                                                    #variable de ruptura del while\n",
        "learning_rate = 0.0001                                                          #usando adam no tendrá mayor rol\n",
        "batch=50\n",
        "\n",
        "frame_num= 300                                                                  #cantidad de toma de datos totales\n",
        "train_gap=1                                                                     #variable del numero de frames entre toma de datos\n",
        "array_images=torch.ones(frame_num,784)\n",
        "\n",
        "chuleta_mins=np.loadtxt('chuleta_min')                                          #carga de mínimos\n",
        "\n",
        "pixel_bar=torch.cuda.mem_get_info(DEVICE)[1]                                    #crea una barra de carga con el total de la memoria de cuda\n",
        "p_bar=tqdm(total=pixel_bar)\n",
        "first=0\n",
        "tol=6                                                                           #define la tolerancia de la varianza\n",
        "almac_er=torch.ones(tol)                                                        #almacena la loss de las últimas tres épocas\n",
        "almac=0\n",
        "epoch_frame=1                                                                   #si se pone 1 solo se toma las variables originles empleado para sacar más de una toma de datos a diferentes valores de hidden var o epochs\n",
        "salida_ploteable=torch.ones(T,epoch_frame,frame_num*train_gap)                  #inicializamos las variables de recogida de datos de loss\n",
        "salida_ploteable_test=torch.ones(T,epoch_frame,frame_num*train_gap)\n",
        "var_loss_ploteable=torch.ones(T,epoch_frame,frame_num*train_gap)\n"
      ]
    },
    {
      "cell_type": "markdown",
      "metadata": {
        "id": "pbvbpBNfBwqv"
      },
      "source": [
        "Entrenamiento:\n",
        "  * g tomará valores entre 0 y T, i será su versión str para poder entrar como keys del model_dict\n",
        "  * Se permutan los samples entre epochs\n",
        "  * Regularización del autoencoder?"
      ]
    },
    {
      "cell_type": "code",
      "execution_count": null,
      "metadata": {
        "colab": {
          "base_uri": "https://localhost:8080/"
        },
        "id": "-3YsM4rrG5qD",
        "outputId": "019124c1-e4bf-4ef3-9994-af73ffd9bc1e"
      },
      "outputs": [
        {
          "name": "stdout",
          "output_type": "stream",
          "text": [
            "el bueno tensor(5.0013, device='cuda:0', grad_fn=<AddBackward0>)\n",
            "0\n",
            "while:  0\n",
            "el bueno tensor(4.9983, device='cuda:0', grad_fn=<AddBackward0>)\n",
            "1\n",
            "while:  1\n",
            "el bueno tensor(5.0050, device='cuda:0', grad_fn=<AddBackward0>)\n",
            "2\n",
            "while:  2\n",
            "el bueno tensor(4.9963, device='cuda:0', grad_fn=<AddBackward0>)\n",
            "3\n",
            "while:  3\n",
            "el bueno tensor(4.9963, device='cuda:0', grad_fn=<AddBackward0>)\n",
            "4\n",
            "while:  4\n",
            "el bueno tensor(5.0006, device='cuda:0', grad_fn=<AddBackward0>)\n",
            "5\n",
            "while:  5\n",
            "el bueno tensor(4.9930, device='cuda:0', grad_fn=<AddBackward0>)\n",
            "6\n",
            "while:  6\n",
            "el bueno tensor(4.9979, device='cuda:0', grad_fn=<AddBackward0>)\n",
            "7\n",
            "while:  7\n",
            "el bueno tensor(5.0003, device='cuda:0', grad_fn=<AddBackward0>)\n",
            "8\n",
            "while:  8\n",
            "el bueno tensor(4.9990, device='cuda:0', grad_fn=<AddBackward0>)\n",
            "9\n",
            "while:  9\n"
          ]
        }
      ],
      "source": [
        "\n",
        "\"\"\"bucle de entrenamiento\"\"\"\n",
        "for m in range(epoch_frame):\n",
        "    D_in, H, D_out = 784, 1700+m*100, 784                                       #784 entradas, H neuronas en la capa oculta y 784 salidas.\n",
        "    model_dict=torch.nn.ParameterDict()                                         #inicializamos el diccionario|probar a definir t como variable\n",
        "\n",
        "    for i in {str(sub) for sub in range(T)}:                                    #definimos el modelo: autoencoder\n",
        "        model_dict[i] = torch.nn.Sequential(\n",
        "        torch.nn.Linear(D_in, H),\n",
        "        torch.nn.ReLU(),\n",
        "        torch.nn.Linear(H, D_out)\n",
        "    )\n",
        "\n",
        "    user1=Difusion(torch.clone(data_bien).to(DEVICE) ,None,T)                   #dos usuarios de la clase difusión uno para el training y otro para test\n",
        "    user2=Difusion(torch.clone(test_bien).to(DEVICE) ,None,T)\n",
        "    l=[]                                                                        #l almacenará la loss\n",
        "    enumerador=0\n",
        "    loss_c=(nn.MSELoss(reduction='mean'))#/batch                                #defino mi función loss\n",
        "\n",
        "    for g in range(T):  #T-901,T-900                                            #inicio del bucle de T\n",
        "        i=str(g)                                                                #i será mi esntrada para el diccionario\n",
        "        print('esto es g =',g)\n",
        "        errores = 10\n",
        "        epoch = 1                                                               #inicializo las epocas antes del while\n",
        "        if g==4:\n",
        "             learning_rate=learning_rate*2\n",
        "        # if g==20:\n",
        "        #     frame_num=frame_num/2\n",
        "        model=model_dict[i]                                                     #doy el valor del diccionario con entrada i a una variable\n",
        "        model=model.to(DEVICE)                                                  #y lo mando a cuda\n",
        "        optimizer = Adam(model.parameters(),lr=learning_rate)                   #inicializo adam en cada T\n",
        "        model.train()                                                           #revisar\n",
        "        cont=0                                                                  #inicializo la variable que dará entrada a la dimensión temporal de las variables de salida\n",
        "        while errores>0 and epoch<=frame_num*train_gap:                         #bucle de entrenamiento que se mantiene por un valor de errores o por el número de épocas\n",
        "            l=[]\n",
        "            l_test=[]\n",
        "\n",
        "            permut=torch.randperm(x_util.size(0))                               #hago una permuta aleatoria de training y test\n",
        "            permut_=torch.randperm(x_test.size(0))\n",
        "            forward_alpha_result, ruido_util = user1.forward_alpha_last_update(int(i)+1)            #disfusiono hasta el paso i\n",
        "            forward_alpha_result_test, ruido_util_test = user2.forward_alpha_last_update(int(i)+1)\n",
        "\n",
        "            x_util[:,:data_bien.size(dim=0)]=forward_alpha_result[permut,:]     #asocio las salidas con la variable útil en los índices random, se trata de el estado x_t\n",
        "            forward_alpha_result=1                                              #borro de la memoria\n",
        "            x_test[:,:data_bien.size(dim=0)]=forward_alpha_result_test[permut_,:]                   #aqui metemos los tests\n",
        "            forward_alpha_result_test=1                                         #borro de la memoria\n",
        "\n",
        "            y_util[:,:data_bien.size(dim=0)]=ruido_util[permut,:]               #asocio las salidas con la variable útil en los índices random, se trata del ruido empleado\n",
        "            ruido_util=1                                                        #borro de la memoria\n",
        "            y_test[:,:data_bien.size(dim=0)]=ruido_util_test[permut_,:]         #aqui metemos los tests\n",
        "            ruido_util_test=1 #para descargar la RAM                            #borro de la memoria\n",
        "\n",
        "            permut=1                                                            #borro de la memoria\n",
        "            permut_=1\n",
        "\n",
        "            for j in range(int(x_util.size(dim=0)/batch)):\n",
        "\n",
        "                beta,alpha,alpha_hat,alpha_hat_anterior = user1.salida_factor(int(i))                #defino mi loss\n",
        "                if g==0:\n",
        "                  sigma=beta\n",
        "                else:\n",
        "                  sigma=((1-alpha_hat_anterior)/(1-alpha_hat))*beta\n",
        "                loss=((beta**2)/(2*(sigma**2)*alpha*(1-alpha_hat)))*loss_c(model(x_util[range((j*batch),((j*batch)+batch)),:]),y_util[range((j*batch),((j*batch)+batch)),:])  #((beta**2)/(2*(sigma**2)*alpha*(1-alpha_hat)))*\n",
        "                #loss=loss_c(model(x_util[range((j*batch),((j*batch)+batch)),:]),y_util[range((j*batch),((j*batch)+batch)),:])\n",
        "\n",
        "                optimizer.zero_grad()                                           #paso backward\n",
        "                loss.backward()\n",
        "                optimizer.step()                                                #actualización de los pesos\n",
        "\n",
        "            loss_=loss_c(model(x_util).detach(),y_util).cpu()                   #guardo la loss despues de ver el modelo toda la data\n",
        "            loss_test=loss_c(model(x_test).detach(),y_test).cpu()\n",
        "            gc.collect()                                                        #limpio cache\n",
        "\n",
        "            almac_er[almac]=loss_test.detach()                                  #almaceno la loss y hago la varianza de las 3 últimas medidas\n",
        "            almac=almac+1\n",
        "            print(cont)\n",
        "\n",
        "            if almac==tol:\n",
        "\n",
        "                almac=0\n",
        "            if cont>=5:\n",
        "                var_loss_ploteable[int(i),m,cont]=abs(torch.var(almac_er))\n",
        "            salida_ploteable[int(i),m,cont]=loss_.detach()\n",
        "            salida_ploteable_test[int(i),m,cont]=loss_test.detach()\n",
        "            print('el bueno',loss_)\n",
        "            cont=cont+1\n",
        "            #if cont>30 and int(i)>10 and cont<950:\n",
        "            #    print(var_loss_ploteable[int(i),m,cont-1])\n",
        "            #    if var_loss_ploteable[int(i),m,cont-1]<1e-11:\n",
        "            #        errores=0\n",
        "            #if chuleta_mins[g]==cont-1:                                        #analiza la entrada de chuleta_min\n",
        "            #     errores=0\n",
        "            if abs(loss_)<0.00000006:                                           #da una tolerancia a la loss\n",
        "                errores=0\n",
        "            epoch=epoch+1\n",
        "\n",
        "\n",
        "        if first==0:                                                            #me da el uso de memoria de cuda\n",
        "            pixel_bar=torch.cuda.mem_get_info(DEVICE)[0]\n",
        "            p_bar.update(torch.cuda.mem_get_info(DEVICE)[1]-pixel_bar)\n",
        "            prev=torch.cuda.mem_get_info(DEVICE)[0]\n",
        "            first=1\n",
        "        pixel_bar=torch.cuda.mem_get_info(DEVICE)[0]\n",
        "        p_bar.update(prev-pixel_bar)\n",
        "        prev=torch.cuda.mem_get_info(DEVICE)[0]\n",
        "\n",
        "        gc.collect()\n",
        "\n",
        "        model_dict[i]=model.cpu()                                               #guardo mi entreno  en una entrada del diccionario\n",
        "        print(int(i))\n",
        "        print('while: ',enumerador)\n",
        "        enumerador=enumerador+1\n",
        "    #del model\n",
        "    #torch.cuda.empty_cache()\n",
        "\n",
        "p_bar.close()                                                                   #cierro la barra de memoria de cuda\n",
        "\n"
      ]
    },
    {
      "cell_type": "markdown",
      "metadata": {
        "id": "nYEvp3vYHHgS"
      },
      "source": [
        "## **Evaluación**:"
      ]
    },
    {
      "cell_type": "markdown",
      "metadata": {
        "id": "lbAdQzHpHrPT"
      },
      "source": [
        "### Salvamos el modelo:"
      ]
    },
    {
      "cell_type": "code",
      "execution_count": null,
      "metadata": {
        "id": "p56D-CalJ5mZ"
      },
      "outputs": [],
      "source": [
        "\n",
        "\"\"\"Representaciones gráficas y salida de variables\"\"\"\n",
        "plt.figure()\n",
        "for i in range(epoch_frame):\n",
        "    plt.plot(salida_ploteable[0,i,:].detach().cpu().numpy())\n",
        "    plt.plot(salida_ploteable_test[0,i,:].detach().cpu().numpy(),'--')\n",
        "plt.ylabel('loss de todas las sample/batch')\n",
        "plt.xlabel('epochs')\n",
        "#plt.xscale('log')\n",
        "plt.show()\n",
        "plt.savefig('plot_loss')\n",
        "\n",
        "from datetime import date\n",
        "from datetime import datetime\n",
        "\n",
        "#Día actual\n",
        "today = date.today()\n",
        "\n",
        "#Fecha actual\n",
        "now = datetime.now()\n",
        "\n",
        "print(today)\n",
        "print(now)\n",
        "#print(W)\n",
        "today.strftime('%m/%d/%Y')\n",
        "now.strftime('%m_%d_%Y_%H_%M_%S')\n",
        "print(now)\n",
        "nombre_test='salida_ploteable_test'+'_'+now.strftime('%m_%d_%Y_%H_%M_%S')\n",
        "nombre_sample='salida_ploteable'+'_'+now.strftime('%m_%d_%Y_%H_%M_%S')\n",
        "nombre_var='var_loss_ploteable'+'_'+now.strftime('%m_%d_%Y_%H_%M_%S')\n",
        "torch.save(salida_ploteable_test.detach().cpu(),nombre_test) #lo pongo al fondo mejor por si falla\n",
        "torch.save(salida_ploteable.detach().cpu(),nombre_sample)\n",
        "torch.save(var_loss_ploteable.detach().cpu(),nombre_var)\n",
        "\n",
        "nombre='dict'+'_'+now.strftime('%m_%d_%Y_%H_%M_%S')\n",
        "torch.save(model_dict.cpu(),nombre) #para salvar el modelo\n",
        "#torch.save(X.cpu(),'estados_difusos') #para salvar la muestra de data\n"
      ]
    },
    {
      "cell_type": "markdown",
      "source": [
        "Cargar modelo"
      ],
      "metadata": {
        "id": "1s5Ethr44Mf8"
      }
    },
    {
      "cell_type": "code",
      "source": [
        "model_dict=torch.load('dict_05_15_2024_13_20_12')"
      ],
      "metadata": {
        "id": "YvN6B7mj4O17"
      },
      "execution_count": null,
      "outputs": []
    },
    {
      "cell_type": "markdown",
      "metadata": {
        "id": "_NyLw-zuJ9Yk"
      },
      "source": [
        "### Representamos el reverse desde una distribución gaussiana:"
      ]
    },
    {
      "cell_type": "code",
      "execution_count": null,
      "metadata": {
        "id": "pEUaL-KJLN8v"
      },
      "outputs": [],
      "source": [
        "samplenum=1\n",
        "user1=Difusion(torch.clone(data_bien),None,T)\n",
        "salida_sampled = user1.reverse_sampling(None,None,model_dict.to(DEVICE))\n",
        "\n",
        "plt.imshow(np.transpose(salida_sampled[:784].cpu().reshape(28,28)))"
      ]
    },
    {
      "cell_type": "markdown",
      "metadata": {
        "id": "SrLKERJHLmZo"
      },
      "source": [
        "Histograma de los datos de salida tras el reverse"
      ]
    },
    {
      "cell_type": "code",
      "execution_count": null,
      "metadata": {
        "id": "6ZJPb3ioLN19"
      },
      "outputs": [],
      "source": [
        "plt.figure(dpi=100)\n",
        "plt.hist(salida_sampled[:784].cpu().numpy(),bins=40)"
      ]
    },
    {
      "cell_type": "markdown",
      "metadata": {
        "id": "6o3-hDCsMiyV"
      },
      "source": [
        "Guardamos imágenes de:\n",
        "  * hist1: reverse\n",
        "  * hist2: histograma del reverse\n",
        "  * hist3: histograma de los datos originales\n",
        "  * hist4: data original"
      ]
    },
    {
      "cell_type": "code",
      "execution_count": null,
      "metadata": {
        "id": "EG80cEKQe3Bf"
      },
      "outputs": [],
      "source": [
        "plt.figure(dpi=100)\n",
        "plt.imshow(np.transpose(salida_sampled[:784].cpu().reshape(28,28)))\n",
        "plt.savefig('hist1')\n",
        "plt.figure(dpi=100)\n",
        "plt.hist(salida_sampled[:784].cpu().numpy(),bins=40)\n",
        "plt.savefig('hist2')\n",
        "plt.figure(dpi=100)\n",
        "plt.hist(data_bien[:784,samplenum].cpu().numpy(),bins=40)\n",
        "plt.savefig('hist3')\n",
        "plt.figure(dpi=100)\n",
        "plt.plot(data_bien[:784,:].cpu().mean(1))\n",
        "plt.savefig('hist4')\n"
      ]
    },
    {
      "cell_type": "markdown",
      "source": [
        "### Cargar modelo con reverse a mitad de tiempos"
      ],
      "metadata": {
        "id": "JbKrEVMK4YRV"
      }
    },
    {
      "cell_type": "code",
      "source": [
        "\n",
        "user1=Difusion(torch.clone(data_bien),None,T)\n",
        "samplenum=1\n",
        "aux=torch.ones(T,2,784)\n",
        "salida_sampled_split = user1.reverse_sampling_split(None,None,model_dict.to(DEVICE),2)"
      ],
      "metadata": {
        "id": "x6M9how94eDE"
      },
      "execution_count": null,
      "outputs": []
    },
    {
      "cell_type": "code",
      "source": [
        "print(salida_sampled.size())\n",
        "plt.figure(dpi=100)\n",
        "plt.imshow(np.transpose(salida_sampled_split[:784].cpu().reshape(28,28)))"
      ],
      "metadata": {
        "id": "YNlz5ysn4gvg"
      },
      "execution_count": null,
      "outputs": []
    },
    {
      "cell_type": "markdown",
      "source": [
        "### Carga de reconstrucción de imágen difusa con 10 samples"
      ],
      "metadata": {
        "id": "P5JmzpM25S-l"
      }
    },
    {
      "cell_type": "code",
      "source": [
        "T=1000\n",
        "u=840\n",
        "sample=7\n",
        "user1=Difusion(torch.clone(test_bien),None,T)\n",
        "user2=Difusion(torch.clone(data_bien),None,T)\n",
        "#import matplotlib.pyplot as plt\n",
        "fig,ax = plt.subplots(1,12,dpi=200)\n",
        "ax[0].imshow(np.transpose(X[0,sample,:784].reshape(28,28)));\n",
        "ax[1].imshow(np.transpose(X[u,sample,:784].reshape(28,28)));\n",
        "salida_sampled = user1.reverse_sampling_time_to_time(None,X[u,sample,:].to(DEVICE),model_dict.to(DEVICE),int(u)+1)\n",
        "ax[2].imshow(salida_sampled.reshape(28,28).T);\n",
        "salida_sampled = user1.reverse_sampling_time_to_time(None,X[u,sample,:].to(DEVICE),model_dict.to(DEVICE),int(u)+1)\n",
        "ax[3].imshow(salida_sampled.reshape(28,28).T);\n",
        "salida_sampled = user1.reverse_sampling_time_to_time(None,X[u,sample,:].to(DEVICE),model_dict.to(DEVICE),int(u)+1)\n",
        "ax[4].imshow(salida_sampled.reshape(28,28).T);\n",
        "salida_sampled = user1.reverse_sampling_time_to_time(None,X[u,sample,:].to(DEVICE),model_dict.to(DEVICE),int(u)+1)\n",
        "ax[5].imshow(salida_sampled.reshape(28,28).T);\n",
        "salida_sampled = user1.reverse_sampling_time_to_time(None,X[u,sample,:].to(DEVICE),model_dict.to(DEVICE),int(u)+1)\n",
        "ax[6].imshow(salida_sampled.reshape(28,28).T);\n",
        "salida_sampled = user1.reverse_sampling_time_to_time(None,X[u,sample,:].to(DEVICE),model_dict.to(DEVICE),int(u)+1)\n",
        "ax[7].imshow(salida_sampled.reshape(28,28).T);\n",
        "salida_sampled = user1.reverse_sampling_time_to_time(None,X[u,sample,:].to(DEVICE),model_dict.to(DEVICE),int(u)+1)\n",
        "ax[8].imshow(salida_sampled.reshape(28,28).T);\n",
        "salida_sampled = user1.reverse_sampling_time_to_time(None,X[u,sample,:].to(DEVICE),model_dict.to(DEVICE),int(u)+1)\n",
        "ax[9].imshow(salida_sampled.reshape(28,28).T);\n",
        "salida_sampled = user1.reverse_sampling_time_to_time(None,X[u,sample,:].to(DEVICE),model_dict.to(DEVICE),int(u)+1)\n",
        "ax[10].imshow(salida_sampled.reshape(28,28).T);\n",
        "salida_sampled = user1.reverse_sampling_time_to_time(None,X[u,sample,:].to(DEVICE),model_dict.to(DEVICE),int(u)+1)\n",
        "ax[11].imshow(salida_sampled.reshape(28,28).T);\n",
        "ax[1].axis(\"off\")\n",
        "ax[2].axis(\"off\")\n",
        "ax[3].axis(\"off\")\n",
        "ax[4].axis(\"off\")\n",
        "ax[5].axis(\"off\")\n",
        "ax[6].axis(\"off\")\n",
        "ax[7].axis(\"off\")\n",
        "ax[8].axis(\"off\")\n",
        "ax[9].axis(\"off\")\n",
        "ax[10].axis(\"off\")\n",
        "ax[11].axis(\"off\")\n",
        "ax[0].axis(\"off\")\n",
        "ax[0].set_title(''.join([\"T=\",str(u)]), fontsize=10)\n",
        "#ax[3].hist(X[0,sample,:784].numpy().reshape(-1),bins=50,density=True);\n",
        "#ax[3].hist((salida_sampled+torch.mean(test_bien,1)).numpy().reshape(-1),bins=50,density=True);"
      ],
      "metadata": {
        "id": "bm5HADwL5Yec"
      },
      "execution_count": null,
      "outputs": []
    },
    {
      "cell_type": "markdown",
      "source": [
        "# **Modelo original SWISSROLL**"
      ],
      "metadata": {
        "id": "rUiRNocH0bV2"
      }
    },
    {
      "cell_type": "markdown",
      "source": [
        "## **Script**:"
      ],
      "metadata": {
        "id": "ZBBoE76Xbx-J"
      }
    },
    {
      "cell_type": "code",
      "source": [
        "# el objetivo es crear un proceso de difusion para datos 2D\n",
        "import numpy as np\n",
        "import torch\n",
        "import torch.nn as nn\n",
        "from matplotlib import pyplot as plt\n",
        "from torch.optim import Adam\n",
        "#from torch import optim\n",
        "\n",
        "DEVICE = torch.device(\"cuda:0\" if torch.cuda.is_available() else \"cpu\")\n",
        "print(DEVICE)\n",
        "#a.to(DEVICE)\n",
        "\n",
        "\n",
        "#intentaremos crear una espiral\n",
        "sample_num=20000 #6000 en el mejor caso\n",
        "theta = np.linspace(0,3*np.pi,sample_num)\n",
        "r = 5 + 1*theta\n",
        "x=np.multiply(r,np.cos(theta)) #+ 0.2*np.random.randn(sample_num)\n",
        "y=np.multiply(r,np.sin(theta)) #+ 0.2*np.random.randn(sample_num)\n",
        "factor=15\n",
        "data_bien=torch.tensor([x,y])/12\n",
        "#print(data_bien)\n",
        "plt.scatter(data_bien.numpy()[0,:],data_bien.numpy()[1,:])\n",
        "# prueba de distribucion normal de torch: print(torch.normal(0 * torch.ones(2,100),1))\n",
        "\n",
        "\n",
        "\n",
        "class Difusion:\n",
        "    def __init__(self,data,W,paso_temp):\n",
        "        self.DEVICE_dos =torch.device(\"cuda:0\" if data.is_cuda==True else \"cpu\")\n",
        "        self.n=data.size(dim=0) #numero de puntos que se quiere samplear\n",
        "        self.m=data.size(dim=1)\n",
        "        self.T = paso_temp   #pasos de tiempo\n",
        "        self.diffusion_rate = 0.01   #para la difusión normal\n",
        "        self.mu=0\n",
        "        self.var=1\n",
        "        self.data=data\n",
        "        self.data2=data\n",
        "        self.start=1e-4\n",
        "        self.end=0.02\n",
        "        self.betas = self.linear_beta_schedule() #llamada interior\n",
        "        self.alphas = 1. - self.betas\n",
        "        self.alphas_cumprod = torch.from_numpy(np.cumprod(self.alphas, axis=0)).to(self.DEVICE_dos)\n",
        "        self.alpha_hat=self.alphas_cumprod\n",
        "    # Beta no lineal\n",
        "    def linear_beta_schedule(self):\n",
        "        return np.linspace(self.start, self.end, self.T)\n",
        "\n",
        "    # Funcion para aplicar el modelo de difusion hacia adelante\n",
        "    # Es el paso del forward step con el reparametrization trick\n",
        "    def forward_diffusion(self):\n",
        "        ruido=torch.normal(self.mu * torch.ones(self.n),self.var).to(self.DEVICE_dos)\n",
        "        #ruido=0.1*ruido\n",
        "        for t in range(self.T):\n",
        "\n",
        "            self.data =(torch.sqrt(1-self.diffusion_rate)*self.data) + (torch.sqrt(self.diffusion_rate)*ruido)\n",
        "\n",
        "        return self.data,ruido\n",
        "\n",
        "    def forward_diffusion_all(self):\n",
        "        all_data = torch.zeros((self.T+1,self.data.shape[0],self.data.shape[1]))\n",
        "        all_data[0,:] = self.data[:]\n",
        "        for t in range(self.T):\n",
        "\n",
        "            self.data =(torch.sqrt(1-self.diffusion_rate)*self.data) + (torch.sqrt(self.diffusion_rate)*torch.normal(self.mu * torch.ones(2,self.n),self.var))\n",
        "            all_data[t+1,:] = self.data[:]\n",
        "\n",
        "        return all_data\n",
        "\n",
        "    # Paso forward con alphas acumulativas\n",
        "    def forward_alpha(self):\n",
        "        ruido=torch.normal(self.mu * torch.ones(self.m,self.n),self.var).to(self.DEVICE_dos)#de cara a la nueva distribucion de data pongo 1 en vez de 2\n",
        "        #ruido=(1/(1+torch.exp(-(ruido))))\n",
        "        # ruido=0.1*ruido\n",
        "        data2 =torch.sqrt(self.alphas_cumprod[self.T-1])*self.data2.T + (torch.sqrt(1-self.alphas_cumprod[self.T-1])*ruido)\n",
        "        return data2,ruido\n",
        "\n",
        "\n",
        "    #proceso forward que se empleará para entrenar tiempo a tiempo cada máquina al completo\n",
        "    def forward_alpha_last_update(self,Time):\n",
        "        ruido=torch.normal(self.mu * torch.ones(self.m,self.n),self.var).to(self.DEVICE_dos)#de cara a la nueva distribucion de data pongo 1 en vez de 2\n",
        "        #ruido=(1/(1+torch.exp(-(ruido))))\n",
        "        # ruido=0.1*ruido\n",
        "        data2 =torch.sqrt(self.alphas_cumprod[Time-1])*self.data2.T + (torch.sqrt(1-self.alphas_cumprod[Time-1])*ruido)\n",
        "        return data2,ruido\n",
        "    def reverse_sampling(self, W,ruido,model_dict):\n",
        "            with torch.no_grad():\n",
        "                x=torch.normal(self.mu * torch.ones(self.n),self.var).to(DEVICE) #sampling de una distribución normal\n",
        "                x=ruido #al comentar esta linea lo hacemos tomar un ruido base aleatorio si no usa la muestra característica\n",
        "                predicted_noise=torch.ones(self.n).to(DEVICE)\n",
        "\n",
        "                for i in reversed(range(self.T)):\n",
        "                        alpha = self.alphas[i] #los alpha y alpha coump de el paso específico de la trayectoria reverse\n",
        "                        alpha_hat = self.alphas_cumprod[i]\n",
        "                        beta = self.betas[i]\n",
        "\n",
        "                        model=model_dict[str(i)]\n",
        "                        model=model.to(DEVICE)\n",
        "                        model.eval()\n",
        "                        predicted_noise=model(x)\n",
        "\n",
        "                        if i >= 1:\n",
        "                            noise= torch.normal(self.mu * torch.ones(self.n),self.var).to(DEVICE)\n",
        "                        else:\n",
        "                            noise = torch.zeros(self.n).to(DEVICE)\n",
        "                        x = 1 / torch.sqrt(alpha) * (x - ((1 - alpha) / (torch.sqrt(1 - alpha_hat))) * predicted_noise) + torch.sqrt(beta) * noise\n",
        "                        #x[(x.size(dim=0)-1)]=i+1 #aqui igualamos el termino del tiempo al paso por el que vamos\n",
        "                        model.train()\n",
        "            return x\n",
        "\n",
        "#el reverse personalizable\n",
        "    def reverse_sampling_last_update(self, W,ruido,model_dict,Time):\n",
        "            with torch.no_grad():\n",
        "                x=torch.normal(self.mu * torch.ones(self.n),self.var).to(DEVICE) #sampling de una distribución normal\n",
        "                #x=ruido #al comentar esta linea lo hacemos tomar un ruido base aleatorio si no usa la muestra característica\n",
        "                predicted_noise=torch.ones(self.n).to(DEVICE)\n",
        "\n",
        "                for i in reversed(range(Time)):\n",
        "                        alpha = self.alphas[i] #los alpha y alpha coump de el paso específico de la trayectoria reverse\n",
        "                        alpha_hat = self.alphas_cumprod[i]\n",
        "                        beta = self.betas[i]\n",
        "\n",
        "                        model_aux=model_dict[str(i)]\n",
        "                        model_aux.eval()\n",
        "                        predicted_noise=model_aux(x)\n",
        "\n",
        "                        if i >= 1:\n",
        "                            noise= torch.normal(self.mu * torch.ones(self.n),self.var).to(DEVICE)\n",
        "                        else:\n",
        "                            noise = torch.zeros(self.n).to(DEVICE)\n",
        "                        x = 1 / torch.sqrt(alpha) * (x - ((1 - alpha) / (torch.sqrt(1 - alpha_hat))) * predicted_noise) + torch.sqrt(beta) * noise\n",
        "                        #x[(x.size(dim=0)-1)]=i+1 #aqui igualamos el termino del tiempo al paso por el que vamos\n",
        "                        model_aux.train()\n",
        "\n",
        "            return x\n",
        "\n",
        "\n",
        "\n",
        "T=1000\n",
        "ruido=torch.ones(T,data_bien.size(dim=1),data_bien.size(dim=0))\n",
        "X=torch.ones(T,data_bien.size(dim=1),data_bien.size(dim=0))\n",
        "\n",
        "\n",
        "for j in range(1,T+1): #j entra como el tiempo pero habra que restarle uno para usarlo como indice\n",
        "    print('vamos por: ',j)\n",
        "    # for i in range(data_bien.size(dim=1)):\n",
        "        #print('vamos por: ',i)\n",
        "    user1=Difusion(torch.clone(data_bien),None,j)\n",
        "        #forward_result ,ruido_util_itera= user1.forward_diffusion()\n",
        "    forward_alpha_result, ruido_util = user1.forward_alpha()\n",
        "        #print(forward_result.size())\n",
        "    X[j-1,:,:data_bien.size(dim=0)]=forward_alpha_result[:]\n",
        "    #X[j-1,:,data_bien.size(dim=0)]=j\n",
        "    ruido[j-1,:,:data_bien.size(dim=0)]=ruido_util[:]\n",
        "    #ruido[j-1,:,data_bien.size(dim=0)]=j\n",
        "\n",
        "#ahora X y ruido me almacenan los distintos pasos de tiempo en los distintos j con los distintos ruidos a cada paso de tiempo PERO para luego el reverse al ser forward alpha no cuadra muy bien¿?\n",
        "print(ruido.size())\n",
        "print(X.size())\n",
        "ruido=torch.reshape(ruido,[T,data_bien.size(dim=1),data_bien.size(dim=0)])\n",
        "X=torch.reshape(X,[T,data_bien.size(dim=1),data_bien.size(dim=0)])\n",
        "print(ruido.size())\n",
        "print(X.size())\n",
        "#print(X)\n",
        "Y=ruido\n",
        "#permut=torch.randperm(X.size(0))\n",
        "#print(permut.size())\n",
        "#x_preshuffle=X\n",
        "#X=X[permut,:,:] #al estar comentado no estamos mezclando los samples\n",
        "#Y=Y[permut,:,:]\n",
        "\n",
        "\n",
        "\n",
        "\n",
        "D_in, H, D_out = 2, 1000, 2 #784 entradas, 100 neuronas en la capa oculta y 784 salidas.\n",
        "model_dict=torch.nn.ParameterDict()\n",
        "#loss_dict=torch.nn.ParameterDict()\n",
        "for i in {str(sub) for sub in range(T)}:\n",
        "    model_dict[i] = torch.nn.Sequential(\n",
        "    torch.nn.Linear(D_in, H),\n",
        "    torch.nn.ReLU(),\n",
        "    torch.nn.Linear(H, D_out),\n",
        "    )\n",
        "\n",
        "\n",
        "\n",
        "errores = 10                             #esta variable corta el bucle while\n",
        "learning_rate = 0.008                     #learning rate que se le introducira a Adam\n",
        "lr_=np.linspace(learning_rate,learning_rate/2,T)\n",
        "cont_aux=1\n",
        "cont_print=0                             #Mide los intervalos entre toma de muestras alcanzará en valor de train_gap y se tomará una muestra del reverse\n",
        "cont_aux_continuo=0                      #va a ser el que vaya dando entradas a array_images al tomar la muestra de reverse\n",
        "frame_num= 30                            #cantidad de toma de datos totales\n",
        "train_gap=1                              #variable del numero de frames entre toma de datos\n",
        "array_images=torch.ones(frame_num,784)   #almacenará las imágenes del proceso reverse         PERTENECE A OTRA CONF\n",
        "batch=100                                #batch size para el entrenamiento\n",
        "image_gap=1                              #separacion de tiempo entre toma de datos\n",
        "user1=Difusion(torch.clone(data_bien).to(DEVICE),None,T)\n",
        "l=[]                                     #almacenará la loss final de cada epoch\n",
        "x_util=torch.ones_like(X[0,:,:])         #en el entrenamiento se generarán los propios procesos forward entre cada epoch x_util y y_util almacenarán esas salidas para todas las samples\n",
        "x_util=x_util.to(DEVICE)\n",
        "y_util=torch.ones_like(Y[0,:,:])\n",
        "y_util=y_util.to(DEVICE)\n",
        "enumerador=0                             #mide los pasos de tiempo\n",
        "loss_c=(nn.MSELoss(reduction='mean'))    #función loss\n",
        "\n",
        "for g in range(T):\n",
        "    learning_rate=lr_[g]\n",
        "    i=str(g)\n",
        "    epoch = 1\n",
        "    cont_aux=1\n",
        "    cont_aux_continuo=0\n",
        "    model=model_dict[i].to(DEVICE)\n",
        "    #if g>200:\n",
        "    #     learning_rate=learning_rate/100\n",
        "    optimizer = Adam(model.parameters(),lr=learning_rate)\n",
        "    model.train()\n",
        "    #loss=torch.to(DEVICE)\n",
        "    print('et')\n",
        "    while errores>0 and epoch<=frame_num*train_gap:\n",
        "\n",
        "        error_dis=0\n",
        "        l=[]\n",
        "        forward_alpha_result, ruido_util = user1.forward_alpha_last_update(g+1)\n",
        "        x_util[:,:data_bien.size(dim=0)]=forward_alpha_result[:].to(DEVICE)\n",
        "        y_util[:,:data_bien.size(dim=0)]=ruido_util[:].to(DEVICE)\n",
        "\n",
        "        permut=torch.randperm(x_util.size(0))\n",
        "        x_util=x_util[permut,:]\n",
        "        y_util=y_util[permut,:]\n",
        "\n",
        "        for j in range(int(X.size(dim=1)/batch)):\n",
        "            #ENTRENAMIENTO\n",
        "            loss=loss_c(model(x_util[range((j*batch),((j*batch)+batch)),:]),y_util[range((j*batch),((j*batch)+batch)),:]) #1 porque se emplean únicamente las y\n",
        "\n",
        "            optimizer.zero_grad()\n",
        "            loss.backward()\n",
        "            optimizer.step()\n",
        "        if cont_print==0:\n",
        "            print(loss)\n",
        "            cont_print=0\n",
        "        else:\n",
        "            cont_print=cont_print+1\n",
        "        if abs(loss)<0.00000006:\n",
        "            errores=0\n",
        "        epoch=epoch+1\n",
        "\n",
        "    print('el bueno',loss_c(model(x_util[:,:]),y_util[:,:]).detach() )\n",
        "    model_dict[i]=model.cpu()\n",
        "\n",
        "    if cont_aux==image_gap:\n",
        "        samplenum=1\n",
        "        #salida_sampled = user1.reverse_sampling_last_update(None,x_util[samplenum,:].to(DEVICE),model_dict.to(DEVICE),g)\n",
        "        #salida_sampled = user1.reverse_sampling(ruido[:,1],X[:,1])\n",
        "\n",
        "\n",
        "        #array_images[cont_aux_continuo,:784]=salida_sampled[:784]\n",
        "        cont_aux_continuo=cont_aux_continuo+1\n",
        "        cont_aux=1\n",
        "    else:\n",
        "        cont_aux=cont_aux+1\n",
        "\n",
        "    #el modelo siguiente se inicializa con los parámetros del anterior\n",
        "    #if int(i)<T-1:\n",
        "    #    model_dict[str(int(i)+1)]=model.cpu()\n",
        "    print(int(i))\n",
        "    print('while: ',enumerador)\n",
        "    enumerador=enumerador+1\n",
        "\n",
        "\n",
        "from datetime import date\n",
        "from datetime import datetime\n",
        "\n",
        "#Día actual\n",
        "today = date.today()\n",
        "\n",
        "#Fecha actual\n",
        "now = datetime.now()\n",
        "\n",
        "print(today)\n",
        "print(now)\n",
        "#print(W)\n",
        "today.strftime('%m/%d/%Y')\n",
        "now.strftime('%m_%d_%Y_%H_%M_%S')\n",
        "print(now)\n",
        "nombre_test='salida_ploteable_test'+'_'+now.strftime('%m_%d_%Y_%H_%M_%S')\n",
        "nombre_sample='salida_ploteable'+'_'+now.strftime('%m_%d_%Y_%H_%M_%S')\n",
        "nombre_var='var_loss_ploteable'+'_'+now.strftime('%m_%d_%Y_%H_%M_%S')\n",
        "\n",
        "\n",
        "nombre='dict'+'_'+now.strftime('%m_%d_%Y_%H_%M_%S')\n",
        "torch.save(model_dict.cpu(),nombre) #para salvar el modelo\n",
        "#torch.save(X.cpu(),'estados_difusos') #para salvar la muestra de data"
      ],
      "metadata": {
        "id": "vV0daLv90lHG"
      },
      "execution_count": null,
      "outputs": []
    },
    {
      "cell_type": "markdown",
      "metadata": {
        "id": "xKk4Q6Ue41e0"
      },
      "source": [
        "# Prueba del autoencoder:"
      ]
    },
    {
      "cell_type": "code",
      "execution_count": null,
      "metadata": {
        "colab": {
          "base_uri": "https://localhost:8080/",
          "height": 465
        },
        "id": "y4sfDodb41e1",
        "outputId": "d0af706d-2f28-4db5-eac0-ad4355d83105"
      },
      "outputs": [
        {
          "name": "stdout",
          "output_type": "stream",
          "text": [
            "cuda:0\n",
            "torch.Size([5000, 1])\n"
          ]
        },
        {
          "data": {
            "image/png": "[encoded data removed]",
            "text/plain": [
              "<Figure size 640x480 with 1 Axes>"
            ]
          },
          "metadata": {},
          "output_type": "display_data"
        }
      ],
      "source": [
        "import numpy as np\n",
        "import matplotlib.pyplot as plt\n",
        "import torch\n",
        "import torch.nn as nn\n",
        "from torch.optim import Adam\n",
        "\n",
        "\n",
        "DEVICE = torch.device(\"cuda:0\" if torch.cuda.is_available() else \"cpu\")\n",
        "print(DEVICE)\n",
        "X = np.random.random([5000,1])*20-10\n",
        "X = torch.randn(5000,1)*20-10\n",
        "x_uno=X\n",
        "X=X.to(DEVICE)\n",
        "print(X.size())\n",
        "#X=torch.from_numpy(X)\n",
        "y = (0.5+0.00001*X+0.00001*X**2-0.00001*X**3)\n",
        "y_uno=y.cpu()\n",
        "y=y.to(DEVICE)\n",
        "#y=torch.from_numpy(y)\n",
        "plt.plot(X.cpu(),y.cpu(),'.')\n",
        "plt.show()"
      ]
    },
    {
      "cell_type": "code",
      "execution_count": null,
      "metadata": {
        "colab": {
          "base_uri": "https://localhost:8080/"
        },
        "id": "gT_zYjzH41e3",
        "outputId": "016a4a3f-4813-4621-d630-47c3f7420514"
      },
      "outputs": [
        {
          "name": "stdout",
          "output_type": "stream",
          "text": [
            "tensor([[ -3.5275],\n",
            "        [ -1.3146],\n",
            "        [ -1.9882],\n",
            "        ...,\n",
            "        [ -5.6076],\n",
            "        [-10.5393],\n",
            "        [ -2.0562]], device='cuda:0', grad_fn=<AddmmBackward0>)\n",
            "<generator object Module.parameters at 0x7e17192ea5e0>\n"
          ]
        }
      ],
      "source": [
        "T=4\n",
        "\n",
        "D_in, H, D_out = 1, 20, 1 #784 entradas, 5000 neuronas en la capa oculta y 5000 salidas.\n",
        "model_dict=torch.nn.ParameterDict()\n",
        "for i in {str(sub) for sub in range(T)}:\n",
        "    model_dict[i] = torch.nn.Sequential( #PUEDE que haya que meter la otra variable que enumere el paso de tiempo en que nos encontramos ya que no podemos vectorizar el modelo\n",
        "    torch.nn.Linear(D_in, H),\n",
        "    torch.nn.ReLU(),\n",
        "    torch.nn.Linear(H, D_out),\n",
        "    ).to(DEVICE)\n",
        "#print(model)\n",
        "#la llamada del modelo tendrá que ser del tipo\n",
        "b=model_dict[\"3\"]\n",
        "outputs = b(-torch.randn(30,1).to(DEVICE))\n",
        "outputs = b(X)\n",
        "print(outputs)\n",
        "#ara mandarlo a GPU\n",
        "model_dict.to(DEVICE)\n",
        "print(model_dict.parameters())\n"
      ]
    },
    {
      "cell_type": "code",
      "execution_count": null,
      "metadata": {
        "colab": {
          "base_uri": "https://localhost:8080/"
        },
        "id": "T9uMFLkU41e4",
        "outputId": "a378752a-1993-48bd-b874-c0265d59429e"
      },
      "outputs": [
        {
          "name": "stdout",
          "output_type": "stream",
          "text": [
            "el bueno tensor(0.0014, device='cuda:0', grad_fn=<MseLossBackward0>)\n",
            "el bueno tensor(0.0005, device='cuda:0', grad_fn=<MseLossBackward0>)\n",
            "el bueno tensor(0.0002, device='cuda:0', grad_fn=<MseLossBackward0>)\n",
            "el bueno tensor(0.0002, device='cuda:0', grad_fn=<MseLossBackward0>)\n",
            "el bueno tensor(0.0001, device='cuda:0', grad_fn=<MseLossBackward0>)\n",
            "el bueno tensor(0.0001, device='cuda:0', grad_fn=<MseLossBackward0>)\n"
          ]
        }
      ],
      "source": [
        "\n",
        "\n",
        "errores = 10\n",
        "epoch = 0\n",
        "learning_rate = 0.0001 #empezar en 0.1 en bajas distancias el mejor 0,0001 con un coseno se podria tener un buen learning rate\n",
        "almac_er=torch.ones(10)\n",
        "tol_pass=1#mide el que la actualizacion del error se mantenga alta o cambia el learning\n",
        "almac=0\n",
        "cambio=0\n",
        "cont_aux=1\n",
        "cont_aux_continuo=0 #va a ser el que vaya dando entradas a array_images\n",
        "frame_num=64 #cantidad de toma de datos totales\n",
        "train_gap=10 #variable del numero de frames entre toma de datos\n",
        "array_images=torch.ones(frame_num,784)\n",
        "batch=10\n",
        "\n",
        "#aux_1_X=torch.ones(T,data_bien.size(dim=0)+1,data_bien.size(dim=1))\n",
        "#aux_2_W=torch.ones(T,data_bien.size(dim=0),data_bien.size(dim=1)+1)\n",
        "#aux_1_X[:,:data_bien.size(dim=0),:]=X\n",
        "#aux_2_W[:,:,:data_bien.size(dim=0)]=W\n",
        "X=X.to(DEVICE)\n",
        "\n",
        "#print(W.size())\n",
        "#print(aux_1_X[T-1,:,1].size())\n",
        "\n",
        "l=[]\n",
        "\n",
        "loss_c=(nn.MSELoss(reduction='mean'))#/batch\n",
        "\n",
        "\n",
        "while errores>0 and epoch<=5:\n",
        "    error_dis=0\n",
        "\n",
        "    for i in {str(sub) for sub in range(T)}:\n",
        "        model=model_dict[i].to(DEVICE)\n",
        "        optimizer = Adam(model.parameters(),lr=learning_rate)\n",
        "        for j in range(X.size(dim=0)):\n",
        "        #tenemos un diccionario de modelos para cada tiempo T al que vamos a ir llamando y entrenando por separado vectorial? STLM?                                                          #DEFINO BATCH\n",
        "            #X=torch.reshape(X,[5000,1])\n",
        "            #al mezclar entrenmiento y evaluacion con torch no grad se puede meter? si no quitar torch no grad\n",
        "            next_prediction = model(X) #next prediction es vectorial de tamaño 1600      [:,l+j*batch]    de esta forma va a ser\n",
        "            #print(next_prediction)\n",
        "            #loss=-next_prediction+Y[:,range((j*batch),((j*batch)+batch)),:]\n",
        "            #loss=abs(loss).mean()\n",
        "            #loss=torch.square(loss)\n",
        "            #print(loss)\n",
        "\n",
        "            loss=loss_c(next_prediction,y)\n",
        "            optimizer.zero_grad() #igual con el batch que ponemos no nos interesa poner a cero los parámetros hasta que no acabe el batch entero?\n",
        "            l.append(loss.item())\n",
        "            loss.backward()\n",
        "            optimizer.step()\n",
        "            #with torch.no_grad():\n",
        "            #    for param in model.parameters():\n",
        "            #        param -= learning_rate*param.grad\n",
        "            model_dict[i]=model\n",
        "    epoch=epoch+1\n",
        "    #print(loss)\n",
        "\n",
        "    #[W,error_dis] = update_state(W.to(DEVICE), learning_rate, X.to(DEVICE).float(), Y.to(DEVICE),error_dis)#he cambiado un uno en la Y por i\n",
        "        #print(i)\n",
        "    print('el bueno',loss)\n",
        "\n",
        "\n"
      ]
    },
    {
      "cell_type": "code",
      "execution_count": null,
      "metadata": {
        "colab": {
          "base_uri": "https://localhost:8080/",
          "height": 430
        },
        "id": "vBovJo1B41e6",
        "outputId": "e92203bf-3835-419b-ac83-8747b446c732"
      },
      "outputs": [
        {
          "data": {
            "image/png": "[encoded data removed]",
            "text/plain": [
              "<Figure size 640x480 with 1 Axes>"
            ]
          },
          "metadata": {},
          "output_type": "display_data"
        }
      ],
      "source": [
        "\n",
        "model_dict.eval\n",
        "for i in {str(sub) for sub in range(T)}:\n",
        "    model_eval=model_dict[i]\n",
        "    yy=model_eval(X)\n",
        "rep_x=np.transpose(X.detach().cpu().numpy())\n",
        "rep_y=np.transpose(yy.detach().cpu().numpy())\n",
        "plt.plot(x_uno,y_uno.cpu(),'.')\n",
        "plt.plot(rep_x,rep_y,'.')\n",
        "plt.show()"
      ]
    },
    {
      "cell_type": "code",
      "execution_count": null,
      "metadata": {
        "colab": {
          "base_uri": "https://localhost:8080/",
          "height": 447
        },
        "id": "gJw389e141e6",
        "outputId": "5a958a70-0692-4236-dbd3-29915a8264fc"
      },
      "outputs": [
        {
          "name": "stdout",
          "output_type": "stream",
          "text": [
            "torch.Size([5000, 1])\n"
          ]
        },
        {
          "data": {
            "image/png": "[encoded data removed]",
            "text/plain": [
              "<Figure size 640x480 with 1 Axes>"
            ]
          },
          "metadata": {},
          "output_type": "display_data"
        }
      ],
      "source": [
        "X = np.random.random([5000,1])*20-10\n",
        "X = torch.randn(5000,1)*20-10\n",
        "X=X.to(DEVICE)\n",
        "print(X.size())\n",
        "#X=torch.from_numpy(X)\n",
        "y = (0.5+0.00001*X+0.00001*X**2-0.00001*X**3)+ 2*torch.ones(X.shape).to(DEVICE)*torch.normal(torch.ones(size=X.shape).to(DEVICE),0.1).to(DEVICE)\n",
        "#y=torch.from_numpy(y)\n",
        "y=y.to(DEVICE)\n",
        "plt.plot(X.cpu(),y.cpu(),'.')\n",
        "plt.show()"
      ]
    },
    {
      "cell_type": "code",
      "execution_count": null,
      "metadata": {
        "colab": {
          "base_uri": "https://localhost:8080/"
        },
        "id": "0VJT3Z-t41e7",
        "outputId": "cb72093a-8828-45b0-9fa3-c97eb4fb3689"
      },
      "outputs": [
        {
          "name": "stdout",
          "output_type": "stream",
          "text": [
            "tensor([[0.7065],\n",
            "        [1.2636],\n",
            "        [0.7218],\n",
            "        ...,\n",
            "        [5.0682],\n",
            "        [4.7968],\n",
            "        [0.4203]], device='cuda:0', grad_fn=<AddmmBackward0>)\n",
            "<generator object Module.parameters at 0x7e17192ea030>\n"
          ]
        }
      ],
      "source": [
        "T=4\n",
        "\n",
        "D_in, H, D_out = 1, 20, 1 #784 entradas, 5000 neuronas en la capa oculta y 5000 salidas.\n",
        "model_dict=torch.nn.ParameterDict()\n",
        "for i in {str(sub) for sub in range(T)}:\n",
        "    model_dict[i] = torch.nn.Sequential( #PUEDE que haya que meter la otra variable que enumere el paso de tiempo en que nos encontramos ya que no podemos vectorizar el modelo\n",
        "    torch.nn.Linear(D_in, H),\n",
        "    torch.nn.ReLU(),\n",
        "    torch.nn.Linear(H, D_out),\n",
        "    ).to(DEVICE)\n",
        "#print(model)\n",
        "#la llamada del modelo tendrá que ser del tipo\n",
        "b=model_dict[\"3\"]\n",
        "outputs = b(-torch.randn(30,1).to(DEVICE))\n",
        "outputs = b(X)\n",
        "print(outputs)\n",
        "#ara mandarlo a GPU\n",
        "model_dict.to(DEVICE)\n",
        "print(model_dict.parameters())"
      ]
    },
    {
      "cell_type": "code",
      "execution_count": null,
      "metadata": {
        "colab": {
          "base_uri": "https://localhost:8080/"
        },
        "id": "lz___9SR41e8",
        "outputId": "2b124ff6-9b6d-4dca-eebf-30a89aebf721"
      },
      "outputs": [
        {
          "name": "stdout",
          "output_type": "stream",
          "text": [
            "el bueno tensor(0.1124, device='cuda:0', grad_fn=<MseLossBackward0>)\n",
            "el bueno tensor(0.0481, device='cuda:0', grad_fn=<MseLossBackward0>)\n",
            "el bueno tensor(0.0429, device='cuda:0', grad_fn=<MseLossBackward0>)\n",
            "el bueno tensor(0.0415, device='cuda:0', grad_fn=<MseLossBackward0>)\n",
            "el bueno tensor(0.0411, device='cuda:0', grad_fn=<MseLossBackward0>)\n",
            "el bueno tensor(0.0409, device='cuda:0', grad_fn=<MseLossBackward0>)\n"
          ]
        }
      ],
      "source": [
        "\n",
        "\n",
        "errores = 10\n",
        "epoch = 0\n",
        "learning_rate = 0.0001 #empezar en 0.1 en bajas distancias el mejor 0,0001 con un coseno se podria tener un buen learning rate\n",
        "almac_er=torch.ones(10)\n",
        "tol_pass=1#mide el que la actualizacion del error se mantenga alta o cambia el learning\n",
        "almac=0\n",
        "cambio=0\n",
        "cont_aux=1\n",
        "cont_aux_continuo=0 #va a ser el que vaya dando entradas a array_images\n",
        "frame_num=64 #cantidad de toma de datos totales\n",
        "train_gap=10 #variable del numero de frames entre toma de datos\n",
        "array_images=torch.ones(frame_num,784)\n",
        "batch=10\n",
        "\n",
        "#aux_1_X=torch.ones(T,data_bien.size(dim=0)+1,data_bien.size(dim=1))\n",
        "#aux_2_W=torch.ones(T,data_bien.size(dim=0),data_bien.size(dim=1)+1)\n",
        "#aux_1_X[:,:data_bien.size(dim=0),:]=X\n",
        "#aux_2_W[:,:,:data_bien.size(dim=0)]=W\n",
        "X=X.to(DEVICE)\n",
        "\n",
        "#print(W.size())\n",
        "#print(aux_1_X[T-1,:,1].size())\n",
        "\n",
        "l=[]\n",
        "\n",
        "loss_c=(nn.MSELoss(reduction='mean'))#/batch\n",
        "\n",
        "\n",
        "while errores>0 and epoch<=5:\n",
        "    error_dis=0\n",
        "\n",
        "    for i in {str(sub) for sub in range(T)}:\n",
        "        model=model_dict[i].to(DEVICE)\n",
        "        optimizer = Adam(model.parameters(),lr=learning_rate)\n",
        "        for j in range(X.size(dim=0)):\n",
        "        #tenemos un diccionario de modelos para cada tiempo T al que vamos a ir llamando y entrenando por separado vectorial? STLM?                                                          #DEFINO BATCH\n",
        "            #X=torch.reshape(X,[5000,1])\n",
        "            #al mezclar entrenmiento y evaluacion con torch no grad se puede meter? si no quitar torch no grad\n",
        "            next_prediction = model(X) #next prediction es vectorial de tamaño 1600      [:,l+j*batch]    de esta forma va a ser\n",
        "            #print(next_prediction)\n",
        "            #loss=-next_prediction+Y[:,range((j*batch),((j*batch)+batch)),:]\n",
        "            #loss=abs(loss).mean()\n",
        "            #loss=torch.square(loss)\n",
        "            #print(loss)\n",
        "\n",
        "            loss=loss_c(next_prediction,y)\n",
        "            optimizer.zero_grad() #igual con el batch que ponemos no nos interesa poner a cero los parámetros hasta que no acabe el batch entero?\n",
        "            l.append(loss.item())\n",
        "            loss.backward()\n",
        "            optimizer.step()\n",
        "            #with torch.no_grad():\n",
        "            #    for param in model.parameters():\n",
        "            #        param -= learning_rate*param.grad\n",
        "            model_dict[i]=model\n",
        "    epoch=epoch+1\n",
        "    #print(loss)\n",
        "\n",
        "    #[W,error_dis] = update_state(W.to(DEVICE), learning_rate, X.to(DEVICE).float(), Y.to(DEVICE),error_dis)#he cambiado un uno en la Y por i\n",
        "        #print(i)\n",
        "    print('el bueno',loss)\n",
        "\n",
        "\n"
      ]
    },
    {
      "cell_type": "code",
      "execution_count": null,
      "metadata": {
        "colab": {
          "base_uri": "https://localhost:8080/",
          "height": 430
        },
        "id": "4isj964U7tnG",
        "outputId": "e4f006c2-ec80-4acf-8179-6137d010a2cf"
      },
      "outputs": [
        {
          "data": {
            "image/png": "[encoded data removed]",
            "text/plain": [
              "<Figure size 640x480 with 1 Axes>"
            ]
          },
          "metadata": {},
          "output_type": "display_data"
        }
      ],
      "source": [
        "model_dict.eval\n",
        "for i in {str(sub) for sub in range(T)}:\n",
        "    model_eval=model_dict[i]\n",
        "    yy=model_eval(X)\n",
        "rep_x=np.transpose(X.detach().cpu().numpy())\n",
        "rep_y=np.transpose(yy.detach().cpu().numpy())\n",
        "plt.plot(X.cpu(),y.cpu(),'.')\n",
        "plt.plot(rep_x,rep_y,'.')\n",
        "plt.show()"
      ]
    },
    {
      "cell_type": "markdown",
      "metadata": {
        "id": "nGHSp1HywLom"
      },
      "source": [
        "# Modelo lineal:"
      ]
    },
    {
      "cell_type": "code",
      "execution_count": null,
      "metadata": {
        "id": "r-pR-5OFCV0H"
      },
      "outputs": [],
      "source": [
        "# el objetivo es crear un proceso de difusion para datos 2D\n",
        "import numpy as np\n",
        "import torch\n",
        "#import torch.nn as nn\n",
        "from matplotlib import pyplot as plt\n",
        "#from torch import optim\n",
        "DEVICE = torch.device(\"cuda:0\" if torch.cuda.is_available() else \"cpu\")\n",
        "print(DEVICE)\n",
        "#a.to(DEVICE)"
      ]
    },
    {
      "cell_type": "code",
      "execution_count": null,
      "metadata": {
        "id": "GMO2Lx2ICV0J"
      },
      "outputs": [],
      "source": [
        "class Difusion:\n",
        "    def __init__(self,data,W,paso_temp):\n",
        "        self.n=data.size(dim=0) #numero de puntos que se quiere samplear\n",
        "        self.m=data.size(dim=1)\n",
        "        self.T = paso_temp   #pasos de tiempo\n",
        "        self.diffusion_rate = 0.01   #para la difusión normal\n",
        "        self.mu=0\n",
        "        self.var=1\n",
        "        self.data=data\n",
        "        self.data2=data\n",
        "        self.start=1e-4\n",
        "        self.end=0.02\n",
        "        self.betas = self.linear_beta_schedule() #llamada interior\n",
        "        self.alphas = 1. - self.betas\n",
        "        self.alphas_cumprod = torch.from_numpy(np.cumprod(self.alphas, axis=0))\n",
        "        self.alpha_hat=self.alphas_cumprod\n",
        "    # Beta no lineal\n",
        "    def linear_beta_schedule(self):\n",
        "        return np.linspace(self.start, self.end, self.T)\n",
        "\n",
        "    # Funcion para aplicar el modelo de difusion hacia adelante\n",
        "    # Es el paso del forward step con el reparametrization trick\n",
        "    def forward_diffusion(self):\n",
        "        ruido=torch.normal(self.mu * torch.ones(self.n),self.var)\n",
        "        #ruido=0.1*ruido\n",
        "        for t in range(self.T):\n",
        "\n",
        "            self.data =(np.sqrt(1-self.diffusion_rate)*self.data) + (np.sqrt(self.diffusion_rate)*ruido)\n",
        "\n",
        "        return self.data,ruido\n",
        "\n",
        "    def forward_diffusion_all(self):\n",
        "        all_data = np.zeros((self.T+1,self.data.shape[0],self.data.shape[1]))\n",
        "        all_data[0,:] = self.data[:]\n",
        "        for t in range(self.T):\n",
        "\n",
        "            self.data =(np.sqrt(1-self.diffusion_rate)*self.data) + (np.sqrt(self.diffusion_rate)*torch.normal(self.mu * torch.ones(2,self.n),self.var))\n",
        "            all_data[t+1,:] = self.data[:]\n",
        "\n",
        "        return all_data\n",
        "\n",
        "    # Paso forward con alphas acumulativas\n",
        "    def forward_alpha(self):\n",
        "        ruido=torch.normal(self.mu * torch.ones(self.n,self.m),self.var)#de cara a la nueva distribucion de data pongo 1 en vez de 2\n",
        "        #ruido=(1/(1+torch.exp(-(ruido))))\n",
        "        # ruido=0.1*ruido\n",
        "        data2 =np.sqrt(self.alphas_cumprod[self.T-1])*self.data2 + (np.sqrt(1-self.alphas_cumprod[self.T-1])*ruido)\n",
        "        return data2,ruido\n",
        "\n",
        "    def forward_alpha_last_update(self,Time):                                   #proceso forward que se empleará para entrenar tiempo a tiempo cada máquina al completo\n",
        "        ruido=torch.normal(self.mu * torch.ones(self.n,self.m),self.var)\n",
        "        data2 =torch.sqrt(self.alphas_cumprod[Time-1])*self.data2 + (torch.sqrt(1-self.alphas_cumprod[Time-1])*ruido)\n",
        "        return data2,ruido\n",
        "    def reverse_sampling(self, W,ruido):\n",
        "            with torch.no_grad():\n",
        "\n",
        "                x=torch.normal(self.mu * torch.ones(self.n+1),self.var).to(DEVICE) #sampling de una distribución normal\n",
        "                #x=torch.transpose(x,0,1)\n",
        "                #print(x.size())\n",
        "                #x=(1/(1+torch.exp(-(x))))\n",
        "                #x=0.1*x#lo que cambiamos para ir o no a los datos\n",
        "                #x=ruido #al comentar esta linea lo hacemos tomar un ruido base aleatorio si no usa la muestra característica\n",
        "                #predicted_noise=W\n",
        "                predicted_noise=torch.ones(self.n).to(DEVICE)\n",
        "                #for i in range(x.size(dim=0)):\n",
        "                #    predicted_noise[i]=torch.tensor(1/(1+torch.exp(-(torch.dot(W[i,:],x[:])))))-0.5                 #OJO AL CAMBIO  la matriz de pesos es ahora pixeles en las distintas filas y pesos de entrada en las distintas columnas\n",
        "                #                #print(predicted_noise)\n",
        "                                #print(i)\n",
        "                #print(W[1,2,:].size())\n",
        "                #print(x[:].size())\n",
        "                for i in reversed(range(self.T)):\n",
        "                        alpha = self.alphas[i] #los alpha y alpha coump de el paso específico de la trayectoria reverse\n",
        "                        alpha_hat = self.alphas_cumprod[i]\n",
        "                        beta = self.betas[i]\n",
        "                        for j in range(x.size(dim=0)-1):\n",
        "                            predicted_noise[j]=2*(torch.tensor(1/(1+torch.exp(-(torch.dot(W[i,j,:],x[:])))))-0.5)\n",
        "                            #print(predicted_noise)  saliente=2*(torch.sigmoid(torch.matmul(W,x_i))-0.5)\n",
        "                            #print(i)\n",
        "                        if i > 1:\n",
        "                            noise= torch.normal(self.mu * torch.ones(self.n),self.var).to(DEVICE)\n",
        "                            noise=noise*0.1\n",
        "                            #noise = torch.zeros_like(x)\n",
        "                            #noise = torch.randn_like(x) #aquí generamos el ruido antes de llamar a las clases asi que no haria falta generarlo despues, solo usar noise, o bien usar ruido_util solo que todavia no lo habremos llamado\n",
        "                        else:\n",
        "                            noise = torch.zeros(self.n).to(DEVICE)\n",
        "                        x[:(x.size(dim=0)-1)] = 1 / np.sqrt(alpha) * (x[:(x.size(dim=0)-1)] - ((1 - alpha) / (torch.sqrt(1 - alpha_hat))) * predicted_noise) + np.sqrt(beta) * noise\n",
        "                    #no deberia ser alpha_hat?\n",
        "            return x"
      ]
    },
    {
      "cell_type": "code",
      "execution_count": null,
      "metadata": {
        "id": "XY5yTcaMCV0K"
      },
      "outputs": [],
      "source": [
        "def read_data(images_file, labels_file):\n",
        "    x = np.loadtxt(images_file, delimiter=',')\n",
        "    y = np.loadtxt(labels_file, delimiter=',')\n",
        "    return x, y\n",
        "\n",
        "train_data, train_labels = read_data('./images_train.csv', './labels_train.csv')\n",
        "\n",
        "x=torch.from_numpy(train_data).float()\n",
        "data_bien=x\n",
        "print(data_bien.size())#num muestras,dim x\n",
        "data_bien=(torch.transpose(data_bien,0,1)/255)*2-1 #normalizado               HE QUITADO LA NORMALIZACIÓN\n",
        "\n",
        "print(data_bien.size())\n",
        "T=500\n",
        "W=torch.rand([T,data_bien.size(dim=0),data_bien.size(dim=0)+1])/4    #OJO a donde ponemos el +1\n",
        "W=W.to(DEVICE)\n",
        "print(W.size())#iniciamos nuestra matriz de pesos que va a tener los pesos suficientes para cada salida para cada entrada por eso las 3 dimensiones\n",
        "\n",
        "data_bien = data_bien[:,np.where(train_labels==1)[0]]\n",
        "print(data_bien.size())\n",
        "data_bien=data_bien[:,:1000]\n",
        "print(data_bien.size())\n",
        "                                                                                    #TIEMPO\n",
        "ruido=torch.ones(T,data_bien.size(dim=0),data_bien.size(dim=1))\n",
        "X=torch.ones(T,data_bien.size(dim=0),data_bien.size(dim=1))\n",
        "user1=Difusion(torch.clone(data_bien),None,T)\n",
        "for j in range(1,T+1): #j entra como el tiempo pero habra que restarle uno para usarlo como indice\n",
        "    print('vamos por: ',j)\n",
        "    forward_alpha_result, ruido_util = user1.forward_alpha_last_update(j)\n",
        "    X[j-1,:,:]=forward_alpha_result[:]\n",
        "    ruido[j-1,:,:]=ruido_util[:]\n",
        "\n",
        "#ahora X y ruido me almacenan los distintos pasos de tiempo en los distintos j con los distintos ruidos a cada paso de tiempo PERO para luego el reverse al ser forward alpha no cuadra muy bien¿?\n",
        "print(ruido.size())\n",
        "print(X.size())\n",
        "ruido=torch.reshape(ruido,[T,data_bien.size(dim=0),data_bien.size(dim=1)])\n",
        "X=torch.reshape(X,[T,data_bien.size(dim=0),data_bien.size(dim=1)])\n",
        "print(ruido.size())\n",
        "print(X.size())\n",
        "Y=ruido\n",
        "\n"
      ]
    },
    {
      "cell_type": "code",
      "execution_count": null,
      "metadata": {
        "id": "BsPlfUImCV0P"
      },
      "outputs": [],
      "source": [
        "\n",
        "\n",
        "\n",
        "def predict(W, x_i):\n",
        "    saliente=2*(torch.sigmoid(torch.matmul(W,x_i))-0.5) #multiplicar por factor 2 ver extension de la data\n",
        "    return saliente\n",
        "\n",
        "\n",
        "\n",
        "def update_state(W, learning_rate, x_i, y_i,error_dis):\n",
        "    batch=10                                                          #DEFINO BATCH\n",
        "    for j in range(int(X.size(dim=2)/batch)):\n",
        "        next_prediction = predict(W, x_i[:,:,range((j*batch),((j*batch)+batch))]) #next prediction es vectorial de tamaño 1600      [:,l+j*batch]    de esta forma va a ser\n",
        "        resta=2*(-next_prediction+y_i[:,:,range((j*batch),((j*batch)+batch))])\n",
        "        W=W+learning_rate*(torch.matmul(resta,torch.transpose(x_i[:,:,range((j*batch),((j*batch)+batch))],1,2)))/batch    #iterar 1600 veces           AQUI he quitado los dos puntos y puesto range\n",
        "        error_dis=error_dis+sum(sum(sum(abs(resta))))/(batch*T)    #podriamos quitar batch y poner el numero de pixeles\n",
        "    return W, error_dis"
      ]
    },
    {
      "cell_type": "code",
      "execution_count": null,
      "metadata": {
        "id": "scBJRDcACV0P",
        "colab": {
          "base_uri": "https://localhost:8080/"
        },
        "outputId": "40a80488-b90b-44fe-c501-cc0997d2d503"
      },
      "outputs": [
        {
          "output_type": "stream",
          "name": "stdout",
          "text": [
            "torch.Size([500, 784, 785])\n",
            "torch.Size([785])\n",
            "el bueno tensor(149701., device='cuda:0')\n",
            "el bueno tensor(106601.5234, device='cuda:0')\n",
            "el bueno tensor(93306.1875, device='cuda:0')\n",
            "el bueno tensor(87279.0078, device='cuda:0')\n",
            "el bueno tensor(83927.5000, device='cuda:0')\n",
            "el bueno tensor(81816.5859, device='cuda:0')\n",
            "el bueno tensor(80341.8750, device='cuda:0')\n",
            "el bueno tensor(79255.0781, device='cuda:0')\n",
            "el bueno tensor(78409.6172, device='cuda:0')\n",
            "el bueno tensor(77722.5234, device='cuda:0')\n",
            "el bueno tensor(77152.5703, device='cuda:0')\n",
            "el bueno tensor(76666.3359, device='cuda:0')\n",
            "el bueno tensor(76244.2422, device='cuda:0')\n",
            "el bueno tensor(75877.3125, device='cuda:0')\n",
            "el bueno tensor(75545.2266, device='cuda:0')\n",
            "el bueno tensor(75251.2969, device='cuda:0')\n",
            "el bueno tensor(74981.5625, device='cuda:0')\n",
            "el bueno tensor(74741.1016, device='cuda:0')\n",
            "el bueno tensor(74514.6094, device='cuda:0')\n",
            "el bueno tensor(74307.3906, device='cuda:0')\n",
            "el bueno tensor(74111.4219, device='cuda:0')\n",
            "el bueno tensor(73931.1172, device='cuda:0')\n",
            "el bueno tensor(73759.4531, device='cuda:0')\n",
            "el bueno tensor(73603.7969, device='cuda:0')\n",
            "el bueno tensor(73456.8984, device='cuda:0')\n",
            "el bueno tensor(73312.9219, device='cuda:0')\n",
            "el bueno tensor(73176.6953, device='cuda:0')\n",
            "el bueno tensor(73050.5781, device='cuda:0')\n",
            "el bueno tensor(72926.1094, device='cuda:0')\n",
            "el bueno tensor(72813.1562, device='cuda:0')\n",
            "el bueno tensor(72701.2500, device='cuda:0')\n",
            "el bueno tensor(72595.9297, device='cuda:0')\n",
            "el bueno tensor(72499.2578, device='cuda:0')\n",
            "el bueno tensor(72399.9297, device='cuda:0')\n",
            "el bueno tensor(72307.8516, device='cuda:0')\n",
            "el bueno tensor(72217.8438, device='cuda:0')\n",
            "el bueno tensor(72130.4531, device='cuda:0')\n",
            "el bueno tensor(72045.2969, device='cuda:0')\n",
            "el bueno tensor(71966.2500, device='cuda:0')\n",
            "el bueno tensor(71887.1094, device='cuda:0')\n",
            "el bueno tensor(71814.6953, device='cuda:0')\n",
            "el bueno tensor(71739.1328, device='cuda:0')\n",
            "el bueno tensor(71671.0703, device='cuda:0')\n",
            "el bueno tensor(71600.4141, device='cuda:0')\n",
            "el bueno tensor(71536.2266, device='cuda:0')\n",
            "el bueno tensor(71475.0156, device='cuda:0')\n",
            "el bueno tensor(71411.4844, device='cuda:0')\n",
            "el bueno tensor(71356.0312, device='cuda:0')\n",
            "el bueno tensor(71294.8672, device='cuda:0')\n",
            "el bueno tensor(71239.7734, device='cuda:0')\n",
            "el bueno tensor(71186.6562, device='cuda:0')\n",
            "el bueno tensor(71130.8594, device='cuda:0')\n",
            "el bueno tensor(71082.0781, device='cuda:0')\n",
            "el bueno tensor(71031.6094, device='cuda:0')\n",
            "el bueno tensor(70980.2031, device='cuda:0')\n",
            "el bueno tensor(70932.0469, device='cuda:0')\n",
            "el bueno tensor(70885.0781, device='cuda:0')\n",
            "el bueno tensor(70843.4453, device='cuda:0')\n",
            "el bueno tensor(70795.4531, device='cuda:0')\n",
            "el bueno tensor(70754.0625, device='cuda:0')\n",
            "el bueno tensor(70711.3750, device='cuda:0')\n",
            "el bueno tensor(70667.3359, device='cuda:0')\n",
            "el bueno tensor(70625.6094, device='cuda:0')\n",
            "el bueno tensor(70588.5938, device='cuda:0')\n",
            "el bueno tensor(70547.9609, device='cuda:0')\n",
            "el bueno tensor(70508.7891, device='cuda:0')\n",
            "el bueno tensor(70473.1016, device='cuda:0')\n",
            "el bueno tensor(70437.3047, device='cuda:0')\n",
            "el bueno tensor(70404.2891, device='cuda:0')\n",
            "el bueno tensor(70365.6875, device='cuda:0')\n",
            "el bueno tensor(70332.2969, device='cuda:0')\n",
            "el bueno tensor(70298.7109, device='cuda:0')\n",
            "el bueno tensor(70264.9844, device='cuda:0')\n",
            "el bueno tensor(70231.0703, device='cuda:0')\n",
            "el bueno tensor(70197.9375, device='cuda:0')\n",
            "el bueno tensor(70169.2578, device='cuda:0')\n",
            "el bueno tensor(70138.9531, device='cuda:0')\n",
            "el bueno tensor(70108.9688, device='cuda:0')\n",
            "el bueno tensor(70079.9688, device='cuda:0')\n",
            "el bueno tensor(70051.3281, device='cuda:0')\n",
            "el bueno tensor(70024.7734, device='cuda:0')\n",
            "el bueno tensor(69995.6797, device='cuda:0')\n",
            "el bueno tensor(69968.6562, device='cuda:0')\n",
            "el bueno tensor(69946.4219, device='cuda:0')\n",
            "el bueno tensor(69914.7734, device='cuda:0')\n",
            "el bueno tensor(69889.9141, device='cuda:0')\n",
            "el bueno tensor(69863.1172, device='cuda:0')\n",
            "el bueno tensor(69839.8672, device='cuda:0')\n",
            "el bueno tensor(69814.4453, device='cuda:0')\n",
            "el bueno tensor(69790.8672, device='cuda:0')\n",
            "el bueno tensor(69763.8828, device='cuda:0')\n",
            "el bueno tensor(69742.2344, device='cuda:0')\n",
            "el bueno tensor(69719.1875, device='cuda:0')\n",
            "el bueno tensor(69695.4609, device='cuda:0')\n",
            "el bueno tensor(69671.6562, device='cuda:0')\n",
            "el bueno tensor(69652.1328, device='cuda:0')\n",
            "el bueno tensor(69630.6953, device='cuda:0')\n",
            "el bueno tensor(69610.8594, device='cuda:0')\n",
            "el bueno tensor(69585.8203, device='cuda:0')\n",
            "el bueno tensor(69568.7109, device='cuda:0')\n",
            "el bueno tensor(69546.3516, device='cuda:0')\n"
          ]
        }
      ],
      "source": [
        "errores = 10\n",
        "epoch = 0\n",
        "learning_rate = 0.01                                                            #empezar en 0.1 en bajas distancias el mejor 0,0001 con un coseno se podria tener un buen learning rate\n",
        "almac_er=torch.ones(10)\n",
        "tol_pass=1                                                                      #mide el que la actualizacion del error se mantenga alta o cambia el learning\n",
        "almac=0\n",
        "cambio=0\n",
        "cont_aux=1\n",
        "cont_aux_continuo=0                                                             #va a ser el que vaya dando entradas a array_images\n",
        "frame_num=100                                                                   #cantidad de toma de datos totales\n",
        "train_gap=1                                                                     #variable del numero de frames entre toma de datos\n",
        "array_images=torch.ones(frame_num,784)\n",
        "\n",
        "\n",
        "aux_1_X=torch.ones(T,data_bien.size(dim=0)+1,data_bien.size(dim=1))\n",
        "aux_2_W=torch.ones(T,data_bien.size(dim=0),data_bien.size(dim=1)+1)\n",
        "aux_1_X[:,:data_bien.size(dim=0),:]=X\n",
        "\n",
        "print(W.size())\n",
        "print(aux_1_X[T-1,:,1].size())\n",
        "user1=Difusion(torch.clone(data_bien),W,T)\n",
        "\n",
        "while errores>0 and epoch<=frame_num*train_gap:\n",
        "    error_dis=0\n",
        "    forward_alpha_result, ruido_util = user1.forward_alpha_last_update(j)\n",
        "    permut=torch.randperm(aux_1_X[T-1,1,:].size(0))                                       #hago una permuta aleatoria de training y test\n",
        "    X[j-1,:,:]=forward_alpha_result[permut]\n",
        "    ruido[j-1,:,:]=ruido_util[permut]\n",
        "    Y=ruido.to(DEVICE)\n",
        "    aux_1_X=torch.ones(T,data_bien.size(dim=0)+1,data_bien.size(dim=1)).to(DEVICE)\n",
        "    aux_1_X[:,:data_bien.size(dim=0),:]=X.to(DEVICE)\n",
        "    [W,error_dis] = update_state(W.to(DEVICE), learning_rate, aux_1_X.to(DEVICE), Y.to(DEVICE),error_dis)#he cambiado un uno en la Y por i\n",
        "    print('el bueno',error_dis)\n",
        "\n",
        "    if abs(error_dis)<0.06:\n",
        "        errores=0\n",
        "    epoch=epoch+1"
      ]
    },
    {
      "cell_type": "code",
      "execution_count": null,
      "metadata": {
        "id": "hMMhFgKbCV0P"
      },
      "outputs": [],
      "source": [
        "from datetime import date\n",
        "from datetime import datetime\n",
        "\n",
        "#Día actual\n",
        "today = date.today()\n",
        "\n",
        "#Fecha actual\n",
        "now = datetime.now()\n",
        "\n",
        "print(today)\n",
        "print(now)\n",
        "print(W)\n",
        "today.strftime('%m/%d/%Y')\n",
        "now.strftime('%m_%d_%Y_%H_%M_%S')\n",
        "print(now)\n",
        "nombre='pesos_batch'+'_'+now.strftime('%m_%d_%Y_%H_%M_%S')\n",
        "torch.save(W,nombre)"
      ]
    },
    {
      "cell_type": "code",
      "execution_count": null,
      "metadata": {
        "id": "nc2sV9MXCV0Q",
        "colab": {
          "base_uri": "https://localhost:8080/",
          "height": 485
        },
        "outputId": "9d577643-b65e-4a49-c7ae-0201d37dac7a"
      },
      "outputs": [
        {
          "output_type": "stream",
          "name": "stderr",
          "text": [
            "<ipython-input-47-126b64a32a88>:76: UserWarning: To copy construct from a tensor, it is recommended to use sourceTensor.clone().detach() or sourceTensor.clone().detach().requires_grad_(True), rather than torch.tensor(sourceTensor).\n",
            "  predicted_noise[j]=2*(torch.tensor(1/(1+torch.exp(-(torch.dot(W[i,j,:],x[:])))))-0.5)\n"
          ]
        },
        {
          "output_type": "display_data",
          "data": {
            "text/plain": [
              "<Figure size 640x480 with 1 Axes>"
            ],
            "image/png": "[encoded data removed]"
          },
          "metadata": {}
        }
      ],
      "source": [
        "samplenum=1\n",
        "user1=Difusion(torch.clone(data_bien[:,:]),W,T)\n",
        "\n",
        "\n",
        "salida_sampled = user1.reverse_sampling(W.to(DEVICE),X[T-1,:,samplenum].to(DEVICE))\n",
        "\n",
        "import matplotlib.pyplot as plt\n",
        "plt.imshow(np.transpose(salida_sampled[:784].cpu().float().reshape(28,28)))\n",
        "A=salida_sampled"
      ]
    },
    {
      "cell_type": "code",
      "source": [
        "plot_prueba=salida_sampled\n",
        "plot_prueba[np.where(salida_sampled.float().cpu()>1)]=0\n",
        "plot_prueba[np.where(salida_sampled.float().cpu()<-1)]=0\n",
        "plt.imshow(np.transpose(plot_prueba[:784].cpu().reshape(28,28)))"
      ],
      "metadata": {
        "colab": {
          "base_uri": "https://localhost:8080/",
          "height": 447
        },
        "id": "9CjGFxA3PBDz",
        "outputId": "c82a8492-680d-44f8-82aa-beb421916329"
      },
      "execution_count": null,
      "outputs": [
        {
          "output_type": "execute_result",
          "data": {
            "text/plain": [
              "<matplotlib.image.AxesImage at 0x7fe3f92e6ce0>"
            ]
          },
          "metadata": {},
          "execution_count": 89
        },
        {
          "output_type": "display_data",
          "data": {
            "text/plain": [
              "<Figure size 640x480 with 1 Axes>"
            ],
            "image/png": "[encoded data removed]"
          },
          "metadata": {}
        }
      ]
    }
  ],
  "metadata": {
    "accelerator": "GPU",
    "colab": {
      "collapsed_sections": [
        "kDsj54RyfGIv",
        "t_1DCzdKgQmj",
        "-n_Z_F4alV3p",
        "Iq8oVHxRob84",
        "CyXWtb63qo_b",
        "qkho5CKHrdrj",
        "nYEvp3vYHHgS",
        "xKk4Q6Ue41e0",
        "cP90qKdeSLWo",
        "nGHSp1HywLom"
      ],
      "gpuType": "T4",
      "provenance": []
    },
    "kernelspec": {
      "display_name": "Python 3",
      "name": "python3"
    },
    "language_info": {
      "codemirror_mode": {
        "name": "ipython",
        "version": 3
      },
      "file_extension": ".py",
      "mimetype": "text/x-python",
      "name": "python",
      "nbconvert_exporter": "python",
      "pygments_lexer": "ipython3",
      "version": "3.11.5"
    }
  },
  "nbformat": 4,
  "nbformat_minor": 0
}